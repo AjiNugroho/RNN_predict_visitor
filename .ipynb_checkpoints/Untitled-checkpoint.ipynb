{
 "cells": [
  {
   "cell_type": "code",
   "execution_count": 87,
   "metadata": {},
   "outputs": [],
   "source": [
    "import pandas as pd\n",
    "import datetime\n",
    "import numpy as np\n",
    "from sklearn.preprocessing import MinMaxScaler\n",
    "import matplotlib.pyplot as plt\n",
    "%matplotlib inline\n",
    "scaler = MinMaxScaler()"
   ]
  },
  {
   "cell_type": "code",
   "execution_count": 88,
   "metadata": {},
   "outputs": [],
   "source": [
    "data_times = pd.read_csv('score.csv')[['tanggal','arena_id','score']]"
   ]
  },
  {
   "cell_type": "code",
   "execution_count": 89,
   "metadata": {},
   "outputs": [],
   "source": [
    "data_times['tanggal'] = pd.to_datetime(data_times['tanggal'])"
   ]
  },
  {
   "cell_type": "code",
   "execution_count": 90,
   "metadata": {},
   "outputs": [],
   "source": [
    "data_times = data_times.loc[data_times.tanggal >= '2019-01-01']"
   ]
  },
  {
   "cell_type": "code",
   "execution_count": 91,
   "metadata": {},
   "outputs": [],
   "source": [
    "#hapus yang score 0\n",
    "index_0 = data_times[data_times['score']== 0].index\n",
    "data_times.drop(index_0,inplace=True)"
   ]
  },
  {
   "cell_type": "code",
   "execution_count": 92,
   "metadata": {},
   "outputs": [],
   "source": [
    "ones = np.ones(data_times.shape[0])\n"
   ]
  },
  {
   "cell_type": "code",
   "execution_count": 93,
   "metadata": {},
   "outputs": [],
   "source": [
    "data_times.insert(loc=3,column='count',value=ones)"
   ]
  },
  {
   "cell_type": "code",
   "execution_count": 94,
   "metadata": {},
   "outputs": [],
   "source": [
    "jumlah_arena = data_times[['arena_id','count']]"
   ]
  },
  {
   "cell_type": "code",
   "execution_count": 95,
   "metadata": {},
   "outputs": [],
   "source": [
    "jumlah_arena=jumlah_arena.groupby(['arena_id']).sum()"
   ]
  },
  {
   "cell_type": "code",
   "execution_count": 96,
   "metadata": {},
   "outputs": [],
   "source": [
    "jumlah_arena = jumlah_arena.loc[jumlah_arena['count']>=100]"
   ]
  },
  {
   "cell_type": "code",
   "execution_count": 97,
   "metadata": {},
   "outputs": [],
   "source": [
    "sorted_arena = jumlah_arena.sort_values(by=['count'],ascending=False)"
   ]
  },
  {
   "cell_type": "code",
   "execution_count": 98,
   "metadata": {},
   "outputs": [
    {
     "data": {
      "text/html": [
       "<div>\n",
       "<style scoped>\n",
       "    .dataframe tbody tr th:only-of-type {\n",
       "        vertical-align: middle;\n",
       "    }\n",
       "\n",
       "    .dataframe tbody tr th {\n",
       "        vertical-align: top;\n",
       "    }\n",
       "\n",
       "    .dataframe thead th {\n",
       "        text-align: right;\n",
       "    }\n",
       "</style>\n",
       "<table border=\"1\" class=\"dataframe\">\n",
       "  <thead>\n",
       "    <tr style=\"text-align: right;\">\n",
       "      <th></th>\n",
       "      <th>count</th>\n",
       "    </tr>\n",
       "    <tr>\n",
       "      <th>arena_id</th>\n",
       "      <th></th>\n",
       "    </tr>\n",
       "  </thead>\n",
       "  <tbody>\n",
       "    <tr>\n",
       "      <td>419</td>\n",
       "      <td>337.0</td>\n",
       "    </tr>\n",
       "    <tr>\n",
       "      <td>417</td>\n",
       "      <td>301.0</td>\n",
       "    </tr>\n",
       "    <tr>\n",
       "      <td>418</td>\n",
       "      <td>265.0</td>\n",
       "    </tr>\n",
       "    <tr>\n",
       "      <td>5500</td>\n",
       "      <td>262.0</td>\n",
       "    </tr>\n",
       "    <tr>\n",
       "      <td>5539</td>\n",
       "      <td>257.0</td>\n",
       "    </tr>\n",
       "    <tr>\n",
       "      <td>...</td>\n",
       "      <td>...</td>\n",
       "    </tr>\n",
       "    <tr>\n",
       "      <td>5325</td>\n",
       "      <td>106.0</td>\n",
       "    </tr>\n",
       "    <tr>\n",
       "      <td>475</td>\n",
       "      <td>106.0</td>\n",
       "    </tr>\n",
       "    <tr>\n",
       "      <td>501</td>\n",
       "      <td>103.0</td>\n",
       "    </tr>\n",
       "    <tr>\n",
       "      <td>440</td>\n",
       "      <td>103.0</td>\n",
       "    </tr>\n",
       "    <tr>\n",
       "      <td>5113</td>\n",
       "      <td>100.0</td>\n",
       "    </tr>\n",
       "  </tbody>\n",
       "</table>\n",
       "<p>80 rows × 1 columns</p>\n",
       "</div>"
      ],
      "text/plain": [
       "          count\n",
       "arena_id       \n",
       "419       337.0\n",
       "417       301.0\n",
       "418       265.0\n",
       "5500      262.0\n",
       "5539      257.0\n",
       "...         ...\n",
       "5325      106.0\n",
       "475       106.0\n",
       "501       103.0\n",
       "440       103.0\n",
       "5113      100.0\n",
       "\n",
       "[80 rows x 1 columns]"
      ]
     },
     "execution_count": 98,
     "metadata": {},
     "output_type": "execute_result"
    }
   ],
   "source": [
    "sorted_arena"
   ]
  },
  {
   "cell_type": "code",
   "execution_count": 99,
   "metadata": {},
   "outputs": [],
   "source": [
    "#list arena yang layak\n",
    "list_arena = sorted_arena.index.to_list()"
   ]
  },
  {
   "cell_type": "code",
   "execution_count": 100,
   "metadata": {},
   "outputs": [],
   "source": [
    "#new data_times\n",
    "data_times=data_times.loc[data_times['arena_id'].isin(list_arena)]\n",
    "data_times.drop(['count'],axis=1,inplace=True)\n",
    "data_times = data_times.sort_values(by=['arena_id','tanggal'])"
   ]
  },
  {
   "cell_type": "code",
   "execution_count": 101,
   "metadata": {},
   "outputs": [],
   "source": [
    "data_times = data_times\n",
    "data_times['score_norm']=data_times.score.apply\\\n",
    "(lambda x: (x-data_times.score.min())/(data_times.score.max()-data_times.score.min()))"
   ]
  },
  {
   "cell_type": "code",
   "execution_count": null,
   "metadata": {},
   "outputs": [],
   "source": []
  },
  {
   "cell_type": "markdown",
   "metadata": {},
   "source": [
    "# disini"
   ]
  },
  {
   "cell_type": "code",
   "execution_count": 15,
   "metadata": {},
   "outputs": [],
   "source": [
    "data_times = data_times.sort_values(by=['score'],ascending=False)"
   ]
  },
  {
   "cell_type": "code",
   "execution_count": 16,
   "metadata": {},
   "outputs": [
    {
     "data": {
      "text/html": [
       "<div>\n",
       "<style scoped>\n",
       "    .dataframe tbody tr th:only-of-type {\n",
       "        vertical-align: middle;\n",
       "    }\n",
       "\n",
       "    .dataframe tbody tr th {\n",
       "        vertical-align: top;\n",
       "    }\n",
       "\n",
       "    .dataframe thead th {\n",
       "        text-align: right;\n",
       "    }\n",
       "</style>\n",
       "<table border=\"1\" class=\"dataframe\">\n",
       "  <thead>\n",
       "    <tr style=\"text-align: right;\">\n",
       "      <th></th>\n",
       "      <th>tanggal</th>\n",
       "      <th>arena_id</th>\n",
       "      <th>score</th>\n",
       "    </tr>\n",
       "  </thead>\n",
       "  <tbody>\n",
       "    <tr>\n",
       "      <td>8910</td>\n",
       "      <td>2019-10-20</td>\n",
       "      <td>5707</td>\n",
       "      <td>5754</td>\n",
       "    </tr>\n",
       "    <tr>\n",
       "      <td>9373</td>\n",
       "      <td>2019-10-27</td>\n",
       "      <td>5700</td>\n",
       "      <td>3967</td>\n",
       "    </tr>\n",
       "    <tr>\n",
       "      <td>8549</td>\n",
       "      <td>2019-10-16</td>\n",
       "      <td>5707</td>\n",
       "      <td>2305</td>\n",
       "    </tr>\n",
       "    <tr>\n",
       "      <td>9311</td>\n",
       "      <td>2019-10-26</td>\n",
       "      <td>5700</td>\n",
       "      <td>1696</td>\n",
       "    </tr>\n",
       "    <tr>\n",
       "      <td>8837</td>\n",
       "      <td>2019-10-19</td>\n",
       "      <td>5700</td>\n",
       "      <td>1651</td>\n",
       "    </tr>\n",
       "    <tr>\n",
       "      <td>8926</td>\n",
       "      <td>2019-10-20</td>\n",
       "      <td>5700</td>\n",
       "      <td>1555</td>\n",
       "    </tr>\n",
       "    <tr>\n",
       "      <td>8322</td>\n",
       "      <td>2019-10-13</td>\n",
       "      <td>5707</td>\n",
       "      <td>1478</td>\n",
       "    </tr>\n",
       "    <tr>\n",
       "      <td>8606</td>\n",
       "      <td>2019-10-17</td>\n",
       "      <td>5503</td>\n",
       "      <td>1471</td>\n",
       "    </tr>\n",
       "    <tr>\n",
       "      <td>3306</td>\n",
       "      <td>2019-08-21</td>\n",
       "      <td>5638</td>\n",
       "      <td>1468</td>\n",
       "    </tr>\n",
       "    <tr>\n",
       "      <td>8237</td>\n",
       "      <td>2019-10-12</td>\n",
       "      <td>5707</td>\n",
       "      <td>1209</td>\n",
       "    </tr>\n",
       "    <tr>\n",
       "      <td>8463</td>\n",
       "      <td>2019-10-15</td>\n",
       "      <td>5700</td>\n",
       "      <td>1140</td>\n",
       "    </tr>\n",
       "    <tr>\n",
       "      <td>3358</td>\n",
       "      <td>2019-08-22</td>\n",
       "      <td>5638</td>\n",
       "      <td>1109</td>\n",
       "    </tr>\n",
       "    <tr>\n",
       "      <td>2480</td>\n",
       "      <td>2019-05-23</td>\n",
       "      <td>5500</td>\n",
       "      <td>999</td>\n",
       "    </tr>\n",
       "    <tr>\n",
       "      <td>1624</td>\n",
       "      <td>2019-01-17</td>\n",
       "      <td>5181</td>\n",
       "      <td>992</td>\n",
       "    </tr>\n",
       "    <tr>\n",
       "      <td>20150</td>\n",
       "      <td>2020-02-05</td>\n",
       "      <td>420</td>\n",
       "      <td>981</td>\n",
       "    </tr>\n",
       "    <tr>\n",
       "      <td>11722</td>\n",
       "      <td>2019-11-22</td>\n",
       "      <td>5305</td>\n",
       "      <td>957</td>\n",
       "    </tr>\n",
       "    <tr>\n",
       "      <td>20020</td>\n",
       "      <td>2020-02-04</td>\n",
       "      <td>347</td>\n",
       "      <td>921</td>\n",
       "    </tr>\n",
       "    <tr>\n",
       "      <td>3803</td>\n",
       "      <td>2019-08-28</td>\n",
       "      <td>5539</td>\n",
       "      <td>862</td>\n",
       "    </tr>\n",
       "    <tr>\n",
       "      <td>2506</td>\n",
       "      <td>2019-05-24</td>\n",
       "      <td>5500</td>\n",
       "      <td>806</td>\n",
       "    </tr>\n",
       "    <tr>\n",
       "      <td>2623</td>\n",
       "      <td>2019-06-17</td>\n",
       "      <td>432</td>\n",
       "      <td>792</td>\n",
       "    </tr>\n",
       "  </tbody>\n",
       "</table>\n",
       "</div>"
      ],
      "text/plain": [
       "         tanggal  arena_id  score\n",
       "8910  2019-10-20      5707   5754\n",
       "9373  2019-10-27      5700   3967\n",
       "8549  2019-10-16      5707   2305\n",
       "9311  2019-10-26      5700   1696\n",
       "8837  2019-10-19      5700   1651\n",
       "8926  2019-10-20      5700   1555\n",
       "8322  2019-10-13      5707   1478\n",
       "8606  2019-10-17      5503   1471\n",
       "3306  2019-08-21      5638   1468\n",
       "8237  2019-10-12      5707   1209\n",
       "8463  2019-10-15      5700   1140\n",
       "3358  2019-08-22      5638   1109\n",
       "2480  2019-05-23      5500    999\n",
       "1624  2019-01-17      5181    992\n",
       "20150 2020-02-05       420    981\n",
       "11722 2019-11-22      5305    957\n",
       "20020 2020-02-04       347    921\n",
       "3803  2019-08-28      5539    862\n",
       "2506  2019-05-24      5500    806\n",
       "2623  2019-06-17       432    792"
      ]
     },
     "execution_count": 16,
     "metadata": {},
     "output_type": "execute_result"
    }
   ],
   "source": [
    "data_times.head(20)"
   ]
  },
  {
   "cell_type": "code",
   "execution_count": 17,
   "metadata": {},
   "outputs": [
    {
     "data": {
      "text/plain": [
       "[419, 417, 418, 5500, 5539, 5551, 347, 420, 425, 5554]"
      ]
     },
     "execution_count": 17,
     "metadata": {},
     "output_type": "execute_result"
    }
   ],
   "source": [
    "list_arena[:10]"
   ]
  },
  {
   "cell_type": "code",
   "execution_count": 18,
   "metadata": {},
   "outputs": [],
   "source": [
    "batch_5500 = data_times[data_times['arena_id']==5500].sort_values(by=['tanggal'])"
   ]
  },
  {
   "cell_type": "code",
   "execution_count": 19,
   "metadata": {},
   "outputs": [],
   "source": [
    "batch_5500['score_norm'] = batch_5500.score.apply(lambda x: (x-batch_5500.score.min())/(batch_5500.score.max()-batch_5500.score.min()))"
   ]
  },
  {
   "cell_type": "code",
   "execution_count": 20,
   "metadata": {},
   "outputs": [
    {
     "data": {
      "text/html": [
       "<div>\n",
       "<style scoped>\n",
       "    .dataframe tbody tr th:only-of-type {\n",
       "        vertical-align: middle;\n",
       "    }\n",
       "\n",
       "    .dataframe tbody tr th {\n",
       "        vertical-align: top;\n",
       "    }\n",
       "\n",
       "    .dataframe thead th {\n",
       "        text-align: right;\n",
       "    }\n",
       "</style>\n",
       "<table border=\"1\" class=\"dataframe\">\n",
       "  <thead>\n",
       "    <tr style=\"text-align: right;\">\n",
       "      <th></th>\n",
       "      <th>tanggal</th>\n",
       "      <th>arena_id</th>\n",
       "      <th>score</th>\n",
       "      <th>score_norm</th>\n",
       "    </tr>\n",
       "  </thead>\n",
       "  <tbody>\n",
       "    <tr>\n",
       "      <td>2433</td>\n",
       "      <td>2019-05-20</td>\n",
       "      <td>5500</td>\n",
       "      <td>215</td>\n",
       "      <td>0.213641</td>\n",
       "    </tr>\n",
       "    <tr>\n",
       "      <td>2456</td>\n",
       "      <td>2019-05-21</td>\n",
       "      <td>5500</td>\n",
       "      <td>536</td>\n",
       "      <td>0.535607</td>\n",
       "    </tr>\n",
       "    <tr>\n",
       "      <td>2480</td>\n",
       "      <td>2019-05-23</td>\n",
       "      <td>5500</td>\n",
       "      <td>999</td>\n",
       "      <td>1.000000</td>\n",
       "    </tr>\n",
       "    <tr>\n",
       "      <td>2506</td>\n",
       "      <td>2019-05-24</td>\n",
       "      <td>5500</td>\n",
       "      <td>806</td>\n",
       "      <td>0.806419</td>\n",
       "    </tr>\n",
       "    <tr>\n",
       "      <td>2513</td>\n",
       "      <td>2019-05-27</td>\n",
       "      <td>5500</td>\n",
       "      <td>722</td>\n",
       "      <td>0.722166</td>\n",
       "    </tr>\n",
       "    <tr>\n",
       "      <td>2527</td>\n",
       "      <td>2019-05-28</td>\n",
       "      <td>5500</td>\n",
       "      <td>517</td>\n",
       "      <td>0.516550</td>\n",
       "    </tr>\n",
       "    <tr>\n",
       "      <td>2549</td>\n",
       "      <td>2019-06-10</td>\n",
       "      <td>5500</td>\n",
       "      <td>500</td>\n",
       "      <td>0.499498</td>\n",
       "    </tr>\n",
       "    <tr>\n",
       "      <td>2560</td>\n",
       "      <td>2019-06-11</td>\n",
       "      <td>5500</td>\n",
       "      <td>592</td>\n",
       "      <td>0.591775</td>\n",
       "    </tr>\n",
       "    <tr>\n",
       "      <td>2578</td>\n",
       "      <td>2019-06-12</td>\n",
       "      <td>5500</td>\n",
       "      <td>791</td>\n",
       "      <td>0.791374</td>\n",
       "    </tr>\n",
       "    <tr>\n",
       "      <td>2605</td>\n",
       "      <td>2019-06-13</td>\n",
       "      <td>5500</td>\n",
       "      <td>608</td>\n",
       "      <td>0.607823</td>\n",
       "    </tr>\n",
       "    <tr>\n",
       "      <td>2606</td>\n",
       "      <td>2019-06-14</td>\n",
       "      <td>5500</td>\n",
       "      <td>495</td>\n",
       "      <td>0.494483</td>\n",
       "    </tr>\n",
       "    <tr>\n",
       "      <td>2625</td>\n",
       "      <td>2019-06-17</td>\n",
       "      <td>5500</td>\n",
       "      <td>293</td>\n",
       "      <td>0.291876</td>\n",
       "    </tr>\n",
       "    <tr>\n",
       "      <td>2655</td>\n",
       "      <td>2019-06-19</td>\n",
       "      <td>5500</td>\n",
       "      <td>408</td>\n",
       "      <td>0.407222</td>\n",
       "    </tr>\n",
       "    <tr>\n",
       "      <td>2659</td>\n",
       "      <td>2019-06-20</td>\n",
       "      <td>5500</td>\n",
       "      <td>438</td>\n",
       "      <td>0.437312</td>\n",
       "    </tr>\n",
       "    <tr>\n",
       "      <td>2671</td>\n",
       "      <td>2019-06-21</td>\n",
       "      <td>5500</td>\n",
       "      <td>292</td>\n",
       "      <td>0.290873</td>\n",
       "    </tr>\n",
       "    <tr>\n",
       "      <td>2683</td>\n",
       "      <td>2019-06-24</td>\n",
       "      <td>5500</td>\n",
       "      <td>383</td>\n",
       "      <td>0.382146</td>\n",
       "    </tr>\n",
       "    <tr>\n",
       "      <td>2698</td>\n",
       "      <td>2019-06-25</td>\n",
       "      <td>5500</td>\n",
       "      <td>387</td>\n",
       "      <td>0.386158</td>\n",
       "    </tr>\n",
       "    <tr>\n",
       "      <td>2713</td>\n",
       "      <td>2019-06-26</td>\n",
       "      <td>5500</td>\n",
       "      <td>286</td>\n",
       "      <td>0.284855</td>\n",
       "    </tr>\n",
       "    <tr>\n",
       "      <td>2722</td>\n",
       "      <td>2019-06-27</td>\n",
       "      <td>5500</td>\n",
       "      <td>380</td>\n",
       "      <td>0.379137</td>\n",
       "    </tr>\n",
       "    <tr>\n",
       "      <td>2741</td>\n",
       "      <td>2019-06-28</td>\n",
       "      <td>5500</td>\n",
       "      <td>325</td>\n",
       "      <td>0.323972</td>\n",
       "    </tr>\n",
       "  </tbody>\n",
       "</table>\n",
       "</div>"
      ],
      "text/plain": [
       "        tanggal  arena_id  score  score_norm\n",
       "2433 2019-05-20      5500    215    0.213641\n",
       "2456 2019-05-21      5500    536    0.535607\n",
       "2480 2019-05-23      5500    999    1.000000\n",
       "2506 2019-05-24      5500    806    0.806419\n",
       "2513 2019-05-27      5500    722    0.722166\n",
       "2527 2019-05-28      5500    517    0.516550\n",
       "2549 2019-06-10      5500    500    0.499498\n",
       "2560 2019-06-11      5500    592    0.591775\n",
       "2578 2019-06-12      5500    791    0.791374\n",
       "2605 2019-06-13      5500    608    0.607823\n",
       "2606 2019-06-14      5500    495    0.494483\n",
       "2625 2019-06-17      5500    293    0.291876\n",
       "2655 2019-06-19      5500    408    0.407222\n",
       "2659 2019-06-20      5500    438    0.437312\n",
       "2671 2019-06-21      5500    292    0.290873\n",
       "2683 2019-06-24      5500    383    0.382146\n",
       "2698 2019-06-25      5500    387    0.386158\n",
       "2713 2019-06-26      5500    286    0.284855\n",
       "2722 2019-06-27      5500    380    0.379137\n",
       "2741 2019-06-28      5500    325    0.323972"
      ]
     },
     "execution_count": 20,
     "metadata": {},
     "output_type": "execute_result"
    }
   ],
   "source": [
    "batch_5500.head(20)"
   ]
  },
  {
   "cell_type": "code",
   "execution_count": 23,
   "metadata": {},
   "outputs": [
    {
     "data": {
      "text/plain": [
       "<function matplotlib.pyplot.tight_layout(pad=1.08, h_pad=None, w_pad=None, rect=None)>"
      ]
     },
     "execution_count": 23,
     "metadata": {},
     "output_type": "execute_result"
    },
    {
     "data": {
      "image/png": "[encoded data removed]",
      "text/plain": [
       "<Figure size 432x288 with 1 Axes>"
      ]
     },
     "metadata": {
      "needs_background": "light"
     },
     "output_type": "display_data"
    }
   ],
   "source": [
    "plt.plot(batch_5500.tanggal[-20:],batch_5500.score_norm[-20:],'-r',label='arena_5500')\n",
    "plt.tight_layout"
   ]
  },
  {
   "cell_type": "markdown",
   "metadata": {},
   "source": [
    "# training"
   ]
  },
  {
   "cell_type": "code",
   "execution_count": 28,
   "metadata": {},
   "outputs": [],
   "source": [
    "batch_5500_shifted = batch_5500[['tanggal','score_norm']]\n",
    "batch_5500_shifted = batch_5500_shifted.rename(columns={'score_norm':'t'})"
   ]
  },
  {
   "cell_type": "code",
   "execution_count": 30,
   "metadata": {},
   "outputs": [],
   "source": [
    "batch_5500_shifted = batch_5500_shifted.reset_index(drop=True)"
   ]
  },
  {
   "cell_type": "code",
   "execution_count": 37,
   "metadata": {},
   "outputs": [],
   "source": [
    "batch_5500_shifted['t+1'] = batch_5500_shifted.t.shift(periods=-1,fill_value=0)"
   ]
  },
  {
   "cell_type": "code",
   "execution_count": 39,
   "metadata": {},
   "outputs": [
    {
     "data": {
      "text/html": [
       "<div>\n",
       "<style scoped>\n",
       "    .dataframe tbody tr th:only-of-type {\n",
       "        vertical-align: middle;\n",
       "    }\n",
       "\n",
       "    .dataframe tbody tr th {\n",
       "        vertical-align: top;\n",
       "    }\n",
       "\n",
       "    .dataframe thead th {\n",
       "        text-align: right;\n",
       "    }\n",
       "</style>\n",
       "<table border=\"1\" class=\"dataframe\">\n",
       "  <thead>\n",
       "    <tr style=\"text-align: right;\">\n",
       "      <th></th>\n",
       "      <th>tanggal</th>\n",
       "      <th>t</th>\n",
       "      <th>t+1</th>\n",
       "    </tr>\n",
       "  </thead>\n",
       "  <tbody>\n",
       "    <tr>\n",
       "      <td>0</td>\n",
       "      <td>2019-05-20</td>\n",
       "      <td>0.213641</td>\n",
       "      <td>0.535607</td>\n",
       "    </tr>\n",
       "    <tr>\n",
       "      <td>1</td>\n",
       "      <td>2019-05-21</td>\n",
       "      <td>0.535607</td>\n",
       "      <td>1.000000</td>\n",
       "    </tr>\n",
       "    <tr>\n",
       "      <td>2</td>\n",
       "      <td>2019-05-23</td>\n",
       "      <td>1.000000</td>\n",
       "      <td>0.806419</td>\n",
       "    </tr>\n",
       "    <tr>\n",
       "      <td>3</td>\n",
       "      <td>2019-05-24</td>\n",
       "      <td>0.806419</td>\n",
       "      <td>0.722166</td>\n",
       "    </tr>\n",
       "    <tr>\n",
       "      <td>4</td>\n",
       "      <td>2019-05-27</td>\n",
       "      <td>0.722166</td>\n",
       "      <td>0.516550</td>\n",
       "    </tr>\n",
       "    <tr>\n",
       "      <td>...</td>\n",
       "      <td>...</td>\n",
       "      <td>...</td>\n",
       "      <td>...</td>\n",
       "    </tr>\n",
       "    <tr>\n",
       "      <td>256</td>\n",
       "      <td>2020-03-06</td>\n",
       "      <td>0.011033</td>\n",
       "      <td>0.011033</td>\n",
       "    </tr>\n",
       "    <tr>\n",
       "      <td>257</td>\n",
       "      <td>2020-03-07</td>\n",
       "      <td>0.011033</td>\n",
       "      <td>0.009027</td>\n",
       "    </tr>\n",
       "    <tr>\n",
       "      <td>258</td>\n",
       "      <td>2020-03-08</td>\n",
       "      <td>0.009027</td>\n",
       "      <td>0.012036</td>\n",
       "    </tr>\n",
       "    <tr>\n",
       "      <td>259</td>\n",
       "      <td>2020-03-09</td>\n",
       "      <td>0.012036</td>\n",
       "      <td>0.011033</td>\n",
       "    </tr>\n",
       "    <tr>\n",
       "      <td>260</td>\n",
       "      <td>2020-03-10</td>\n",
       "      <td>0.011033</td>\n",
       "      <td>0.013039</td>\n",
       "    </tr>\n",
       "  </tbody>\n",
       "</table>\n",
       "<p>261 rows × 3 columns</p>\n",
       "</div>"
      ],
      "text/plain": [
       "       tanggal         t       t+1\n",
       "0   2019-05-20  0.213641  0.535607\n",
       "1   2019-05-21  0.535607  1.000000\n",
       "2   2019-05-23  1.000000  0.806419\n",
       "3   2019-05-24  0.806419  0.722166\n",
       "4   2019-05-27  0.722166  0.516550\n",
       "..         ...       ...       ...\n",
       "256 2020-03-06  0.011033  0.011033\n",
       "257 2020-03-07  0.011033  0.009027\n",
       "258 2020-03-08  0.009027  0.012036\n",
       "259 2020-03-09  0.012036  0.011033\n",
       "260 2020-03-10  0.011033  0.013039\n",
       "\n",
       "[261 rows x 3 columns]"
      ]
     },
     "execution_count": 39,
     "metadata": {},
     "output_type": "execute_result"
    }
   ],
   "source": [
    "#potong 1 baris terakhir\n",
    "batch_5500_shifted = batch_5500_shifted[:-1]\n",
    "batch_5500_shifted"
   ]
  },
  {
   "cell_type": "code",
   "execution_count": null,
   "metadata": {},
   "outputs": [],
   "source": []
  }
 ],
 "metadata": {
  "kernelspec": {
   "display_name": "Python 3",
   "language": "python",
   "name": "python3"
  },
  "language_info": {
   "codemirror_mode": {
    "name": "ipython",
    "version": 3
   },
   "file_extension": ".py",
   "mimetype": "text/x-python",
   "name": "python",
   "nbconvert_exporter": "python",
   "pygments_lexer": "ipython3",
   "version": "3.6.8"
  }
 },
 "nbformat": 4,
 "nbformat_minor": 2
}
