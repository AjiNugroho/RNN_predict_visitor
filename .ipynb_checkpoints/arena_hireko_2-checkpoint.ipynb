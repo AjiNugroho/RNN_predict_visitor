{
 "cells": [
  {
   "cell_type": "code",
   "execution_count": 1,
   "metadata": {},
   "outputs": [],
   "source": [
    "import numpy as np\n",
    "import pandas as pd\n",
    "from lightfm import LightFM\n",
    "from lightfm.data import Dataset\n",
    "from lightfm.evaluation import auc_score\n",
    "from lightfm.evaluation import precision_at_k\n",
    "from scipy.sparse import coo_matrix\n",
    "import scipy.sparse as sp"
   ]
  },
  {
   "cell_type": "code",
   "execution_count": 2,
   "metadata": {},
   "outputs": [],
   "source": [
    "df_item = pd.read_csv('item.csv')\n",
    "df_user = pd.read_csv('users.csv')\n",
    "df_interaction = pd.read_csv('user_item_interaction.csv')\n",
    "df_user_feature= pd.read_csv('user_feature.csv')\n",
    "df_item_feature= pd.read_csv('item_feature.csv')"
   ]
  },
  {
   "cell_type": "code",
   "execution_count": 3,
   "metadata": {},
   "outputs": [],
   "source": [
    "df_user=df_user.fillna({'category_subscribe':'No_Categories','subscribe':'No_Subscribe'})"
   ]
  },
  {
   "cell_type": "code",
   "execution_count": 4,
   "metadata": {},
   "outputs": [],
   "source": [
    "df_item['genre_name'].replace(to_replace='Books, Music and Film',value='Books Music and Film',inplace=True)"
   ]
  },
  {
   "cell_type": "code",
   "execution_count": 5,
   "metadata": {},
   "outputs": [
    {
     "data": {
      "text/plain": [
       "(9186, 3)"
      ]
     },
     "execution_count": 5,
     "metadata": {},
     "output_type": "execute_result"
    }
   ],
   "source": [
    "df_interaction.shape"
   ]
  },
  {
   "cell_type": "code",
   "execution_count": 6,
   "metadata": {},
   "outputs": [
    {
     "data": {
      "text/html": [
       "<div>\n",
       "<style scoped>\n",
       "    .dataframe tbody tr th:only-of-type {\n",
       "        vertical-align: middle;\n",
       "    }\n",
       "\n",
       "    .dataframe tbody tr th {\n",
       "        vertical-align: top;\n",
       "    }\n",
       "\n",
       "    .dataframe thead th {\n",
       "        text-align: right;\n",
       "    }\n",
       "</style>\n",
       "<table border=\"1\" class=\"dataframe\">\n",
       "  <thead>\n",
       "    <tr style=\"text-align: right;\">\n",
       "      <th></th>\n",
       "      <th>item_id</th>\n",
       "      <th>title</th>\n",
       "      <th>cat_id</th>\n",
       "      <th>cat_name</th>\n",
       "      <th>genre_id</th>\n",
       "      <th>genre_name</th>\n",
       "      <th>eo_id</th>\n",
       "    </tr>\n",
       "  </thead>\n",
       "  <tbody>\n",
       "    <tr>\n",
       "      <th>0</th>\n",
       "      <td>6112</td>\n",
       "      <td>Foldingbike</td>\n",
       "      <td>4</td>\n",
       "      <td>Jumpa WAG</td>\n",
       "      <td>7</td>\n",
       "      <td>Female</td>\n",
       "      <td>10710</td>\n",
       "    </tr>\n",
       "    <tr>\n",
       "      <th>1</th>\n",
       "      <td>6111</td>\n",
       "      <td>FoldingbikeFoldingbike (edited)</td>\n",
       "      <td>4</td>\n",
       "      <td>Jumpa WAG</td>\n",
       "      <td>14</td>\n",
       "      <td>Love and Relationship</td>\n",
       "      <td>10710</td>\n",
       "    </tr>\n",
       "    <tr>\n",
       "      <th>2</th>\n",
       "      <td>6108</td>\n",
       "      <td>FoldingbikeFoldingbike (edited)</td>\n",
       "      <td>4</td>\n",
       "      <td>Jumpa WAG</td>\n",
       "      <td>14</td>\n",
       "      <td>Love and Relationship</td>\n",
       "      <td>10710</td>\n",
       "    </tr>\n",
       "    <tr>\n",
       "      <th>3</th>\n",
       "      <td>6105</td>\n",
       "      <td>FoldingbikeFoldingbike (edited)</td>\n",
       "      <td>4</td>\n",
       "      <td>Jumpa WAG</td>\n",
       "      <td>14</td>\n",
       "      <td>Love and Relationship</td>\n",
       "      <td>10710</td>\n",
       "    </tr>\n",
       "    <tr>\n",
       "      <th>4</th>\n",
       "      <td>6102</td>\n",
       "      <td>Foldingbike</td>\n",
       "      <td>4</td>\n",
       "      <td>Jumpa WAG</td>\n",
       "      <td>7</td>\n",
       "      <td>Female</td>\n",
       "      <td>10710</td>\n",
       "    </tr>\n",
       "    <tr>\n",
       "      <th>...</th>\n",
       "      <td>...</td>\n",
       "      <td>...</td>\n",
       "      <td>...</td>\n",
       "      <td>...</td>\n",
       "      <td>...</td>\n",
       "      <td>...</td>\n",
       "      <td>...</td>\n",
       "    </tr>\n",
       "    <tr>\n",
       "      <th>608</th>\n",
       "      <td>14</td>\n",
       "      <td>Segalanya dimulai dari Big Bang!</td>\n",
       "      <td>4</td>\n",
       "      <td>Jumpa WAG</td>\n",
       "      <td>25</td>\n",
       "      <td>Others</td>\n",
       "      <td>162</td>\n",
       "    </tr>\n",
       "    <tr>\n",
       "      <th>609</th>\n",
       "      <td>12</td>\n",
       "      <td>Suka bikin Meme? Gabung di sini!</td>\n",
       "      <td>4</td>\n",
       "      <td>Jumpa WAG</td>\n",
       "      <td>25</td>\n",
       "      <td>Others</td>\n",
       "      <td>154</td>\n",
       "    </tr>\n",
       "    <tr>\n",
       "      <th>610</th>\n",
       "      <td>11</td>\n",
       "      <td>Mengulas Tuntas Kisi-kisi Ujian Seleksi Masuk ...</td>\n",
       "      <td>4</td>\n",
       "      <td>Jumpa WAG</td>\n",
       "      <td>25</td>\n",
       "      <td>Others</td>\n",
       "      <td>152</td>\n",
       "    </tr>\n",
       "    <tr>\n",
       "      <th>611</th>\n",
       "      <td>8</td>\n",
       "      <td>[BERHADIAH] Kuis Cerdas Cermat Untuk Umum!</td>\n",
       "      <td>4</td>\n",
       "      <td>Jumpa WAG</td>\n",
       "      <td>25</td>\n",
       "      <td>Others</td>\n",
       "      <td>152</td>\n",
       "    </tr>\n",
       "    <tr>\n",
       "      <th>612</th>\n",
       "      <td>6</td>\n",
       "      <td>Flat Earth, Fakta atau Konspirasi?</td>\n",
       "      <td>4</td>\n",
       "      <td>Jumpa WAG</td>\n",
       "      <td>25</td>\n",
       "      <td>Others</td>\n",
       "      <td>152</td>\n",
       "    </tr>\n",
       "  </tbody>\n",
       "</table>\n",
       "<p>613 rows × 7 columns</p>\n",
       "</div>"
      ],
      "text/plain": [
       "     item_id                                              title  cat_id  \\\n",
       "0       6112                                        Foldingbike       4   \n",
       "1       6111                    FoldingbikeFoldingbike (edited)       4   \n",
       "2       6108                    FoldingbikeFoldingbike (edited)       4   \n",
       "3       6105                    FoldingbikeFoldingbike (edited)       4   \n",
       "4       6102                                        Foldingbike       4   \n",
       "..       ...                                                ...     ...   \n",
       "608       14                   Segalanya dimulai dari Big Bang!       4   \n",
       "609       12                  Suka bikin Meme? Gabung di sini!        4   \n",
       "610       11  Mengulas Tuntas Kisi-kisi Ujian Seleksi Masuk ...       4   \n",
       "611        8         [BERHADIAH] Kuis Cerdas Cermat Untuk Umum!       4   \n",
       "612        6                 Flat Earth, Fakta atau Konspirasi?       4   \n",
       "\n",
       "      cat_name  genre_id             genre_name  eo_id  \n",
       "0    Jumpa WAG         7                 Female  10710  \n",
       "1    Jumpa WAG        14  Love and Relationship  10710  \n",
       "2    Jumpa WAG        14  Love and Relationship  10710  \n",
       "3    Jumpa WAG        14  Love and Relationship  10710  \n",
       "4    Jumpa WAG         7                 Female  10710  \n",
       "..         ...       ...                    ...    ...  \n",
       "608  Jumpa WAG        25                 Others    162  \n",
       "609  Jumpa WAG        25                 Others    154  \n",
       "610  Jumpa WAG        25                 Others    152  \n",
       "611  Jumpa WAG        25                 Others    152  \n",
       "612  Jumpa WAG        25                 Others    152  \n",
       "\n",
       "[613 rows x 7 columns]"
      ]
     },
     "execution_count": 6,
     "metadata": {},
     "output_type": "execute_result"
    }
   ],
   "source": [
    "df_item"
   ]
  },
  {
   "cell_type": "code",
   "execution_count": 7,
   "metadata": {},
   "outputs": [
    {
     "data": {
      "text/html": [
       "<div>\n",
       "<style scoped>\n",
       "    .dataframe tbody tr th:only-of-type {\n",
       "        vertical-align: middle;\n",
       "    }\n",
       "\n",
       "    .dataframe tbody tr th {\n",
       "        vertical-align: top;\n",
       "    }\n",
       "\n",
       "    .dataframe thead th {\n",
       "        text-align: right;\n",
       "    }\n",
       "</style>\n",
       "<table border=\"1\" class=\"dataframe\">\n",
       "  <thead>\n",
       "    <tr style=\"text-align: right;\">\n",
       "      <th></th>\n",
       "      <th>user_id</th>\n",
       "      <th>birth_year</th>\n",
       "      <th>gender</th>\n",
       "      <th>category_subscribe</th>\n",
       "      <th>subscribe</th>\n",
       "    </tr>\n",
       "  </thead>\n",
       "  <tbody>\n",
       "    <tr>\n",
       "      <th>0</th>\n",
       "      <td>1</td>\n",
       "      <td>2017</td>\n",
       "      <td>L</td>\n",
       "      <td>No_Categories</td>\n",
       "      <td>No_Subscribe</td>\n",
       "    </tr>\n",
       "    <tr>\n",
       "      <th>1</th>\n",
       "      <td>100</td>\n",
       "      <td>1990</td>\n",
       "      <td>O</td>\n",
       "      <td>Layar Radio,Jumpa WAG,ArenaCast</td>\n",
       "      <td>1</td>\n",
       "    </tr>\n",
       "    <tr>\n",
       "      <th>2</th>\n",
       "      <td>101</td>\n",
       "      <td>1992</td>\n",
       "      <td>O</td>\n",
       "      <td>Layar Radio,Jumpa WAG</td>\n",
       "      <td>1</td>\n",
       "    </tr>\n",
       "    <tr>\n",
       "      <th>3</th>\n",
       "      <td>102</td>\n",
       "      <td>1960</td>\n",
       "      <td>O</td>\n",
       "      <td>Jumpa WAG</td>\n",
       "      <td>1,129</td>\n",
       "    </tr>\n",
       "    <tr>\n",
       "      <th>4</th>\n",
       "      <td>105</td>\n",
       "      <td>2009</td>\n",
       "      <td>O</td>\n",
       "      <td>Layar Radio,Jumpa WAG</td>\n",
       "      <td>1</td>\n",
       "    </tr>\n",
       "    <tr>\n",
       "      <th>...</th>\n",
       "      <td>...</td>\n",
       "      <td>...</td>\n",
       "      <td>...</td>\n",
       "      <td>...</td>\n",
       "      <td>...</td>\n",
       "    </tr>\n",
       "    <tr>\n",
       "      <th>10040</th>\n",
       "      <td>20856</td>\n",
       "      <td>0</td>\n",
       "      <td>O</td>\n",
       "      <td>No_Categories</td>\n",
       "      <td>No_Subscribe</td>\n",
       "    </tr>\n",
       "    <tr>\n",
       "      <th>10041</th>\n",
       "      <td>20859</td>\n",
       "      <td>0</td>\n",
       "      <td>O</td>\n",
       "      <td>No_Categories</td>\n",
       "      <td>No_Subscribe</td>\n",
       "    </tr>\n",
       "    <tr>\n",
       "      <th>10042</th>\n",
       "      <td>20860</td>\n",
       "      <td>0</td>\n",
       "      <td>O</td>\n",
       "      <td>Jumpa WAG</td>\n",
       "      <td>10755</td>\n",
       "    </tr>\n",
       "    <tr>\n",
       "      <th>10043</th>\n",
       "      <td>20863</td>\n",
       "      <td>1999</td>\n",
       "      <td>P</td>\n",
       "      <td>No_Categories</td>\n",
       "      <td>No_Subscribe</td>\n",
       "    </tr>\n",
       "    <tr>\n",
       "      <th>10044</th>\n",
       "      <td>20866</td>\n",
       "      <td>0</td>\n",
       "      <td>O</td>\n",
       "      <td>No_Categories</td>\n",
       "      <td>No_Subscribe</td>\n",
       "    </tr>\n",
       "  </tbody>\n",
       "</table>\n",
       "<p>10045 rows × 5 columns</p>\n",
       "</div>"
      ],
      "text/plain": [
       "       user_id  birth_year gender               category_subscribe  \\\n",
       "0            1        2017      L                    No_Categories   \n",
       "1          100        1990      O  Layar Radio,Jumpa WAG,ArenaCast   \n",
       "2          101        1992      O            Layar Radio,Jumpa WAG   \n",
       "3          102        1960      O                        Jumpa WAG   \n",
       "4          105        2009      O            Layar Radio,Jumpa WAG   \n",
       "...        ...         ...    ...                              ...   \n",
       "10040    20856           0      O                    No_Categories   \n",
       "10041    20859           0      O                    No_Categories   \n",
       "10042    20860           0      O                        Jumpa WAG   \n",
       "10043    20863        1999      P                    No_Categories   \n",
       "10044    20866           0      O                    No_Categories   \n",
       "\n",
       "          subscribe  \n",
       "0      No_Subscribe  \n",
       "1                 1  \n",
       "2                 1  \n",
       "3             1,129  \n",
       "4                 1  \n",
       "...             ...  \n",
       "10040  No_Subscribe  \n",
       "10041  No_Subscribe  \n",
       "10042         10755  \n",
       "10043  No_Subscribe  \n",
       "10044  No_Subscribe  \n",
       "\n",
       "[10045 rows x 5 columns]"
      ]
     },
     "execution_count": 7,
     "metadata": {},
     "output_type": "execute_result"
    }
   ],
   "source": [
    "df_user"
   ]
  },
  {
   "cell_type": "code",
   "execution_count": 8,
   "metadata": {},
   "outputs": [],
   "source": [
    "def serialise(X):\n",
    "    '''untuk serialisasi dan return dalam bentuk list'''\n",
    "    list_out = []\n",
    "    \n",
    "    for x in X:\n",
    "        if x == '':\n",
    "            continue\n",
    "        x = str(x)\n",
    "        x = x.split(',')\n",
    "        list_out += x\n",
    "    return np.array(list_out)"
   ]
  },
  {
   "cell_type": "code",
   "execution_count": 9,
   "metadata": {},
   "outputs": [],
   "source": [
    "\n",
    "user_feat2 = df_user.gender.unique()\n",
    "user_feat3 = np.array(['Layar Radio','ArenaCast','Kelas Bangsa','Jumpa WAG','Hajatan Maya','No_Categories'])# biar gak ribet\n",
    "user_feat4 = np.unique(serialise(df_user.subscribe))\n",
    "user_list_feature = np.concatenate((user_feat2,user_feat3,user_feat4),axis=0)"
   ]
  },
  {
   "cell_type": "code",
   "execution_count": 10,
   "metadata": {},
   "outputs": [],
   "source": [
    "item_feat1 = df_item.cat_name.unique()\n",
    "item_feat2 = df_item.genre_name.unique()\n",
    "item_feat3 = df_item.eo_id.unique().astype(str)\n",
    "item_list_feature = np.concatenate((item_feat1,item_feat2,item_feat3), axis=0)"
   ]
  },
  {
   "cell_type": "code",
   "execution_count": 11,
   "metadata": {},
   "outputs": [],
   "source": [
    "def mapping_index(list_i):\n",
    "    idx_to_map={}\n",
    "    map_to_idx={}\n",
    "    \n",
    "    for index,mapx in enumerate(list_i):\n",
    "        map_to_idx[mapx]=index\n",
    "        idx_to_map[index]=mapx\n",
    "        \n",
    "    return map_to_idx,idx_to_map\n"
   ]
  },
  {
   "cell_type": "code",
   "execution_count": 12,
   "metadata": {},
   "outputs": [],
   "source": [
    "user_to_index,index_to_user = mapping_index(df_user['user_id'])"
   ]
  },
  {
   "cell_type": "code",
   "execution_count": 13,
   "metadata": {},
   "outputs": [],
   "source": [
    "item_to_index,index_to_item = mapping_index(df_item['item_id'])"
   ]
  },
  {
   "cell_type": "code",
   "execution_count": 14,
   "metadata": {},
   "outputs": [],
   "source": [
    "ufeat_to_index,index_to_ufeat = mapping_index(user_list_feature)"
   ]
  },
  {
   "cell_type": "code",
   "execution_count": 15,
   "metadata": {},
   "outputs": [],
   "source": [
    "ifeat_to_index,index_to_ifeat = mapping_index(item_list_feature)"
   ]
  },
  {
   "cell_type": "code",
   "execution_count": 16,
   "metadata": {},
   "outputs": [],
   "source": [
    "def get_interaction_matrix(df, df_column_as_row, df_column_as_col, df_column_as_value, row_indexing_map, \n",
    "                          col_indexing_map):\n",
    "    \n",
    "    row = df[df_column_as_row].apply(lambda x: row_indexing_map[x]).values\n",
    "    col = df[df_column_as_col].apply(lambda x: col_indexing_map[x]).values\n",
    "    value = df[df_column_as_value].values\n",
    "    \n",
    "    return coo_matrix((value, (row, col)), shape = (len(row_indexing_map),\\\n",
    "                                                    len(col_indexing_map)))"
   ]
  },
  {
   "cell_type": "code",
   "execution_count": 17,
   "metadata": {},
   "outputs": [],
   "source": [
    "mat_interaction = get_interaction_matrix(df_interaction,'user_id','item_id','rate',user_to_index,item_to_index)"
   ]
  },
  {
   "cell_type": "code",
   "execution_count": 18,
   "metadata": {},
   "outputs": [
    {
     "data": {
      "text/plain": [
       "<10045x613 sparse matrix of type '<class 'numpy.int64'>'\n",
       "\twith 9186 stored elements in COOrdinate format>"
      ]
     },
     "execution_count": 18,
     "metadata": {},
     "output_type": "execute_result"
    }
   ],
   "source": [
    "mat_interaction"
   ]
  },
  {
   "cell_type": "code",
   "execution_count": 19,
   "metadata": {},
   "outputs": [],
   "source": [
    "df_item_feature['feature'].replace(to_replace='Books, Music and Film',value='Books Music and Film',inplace=True)"
   ]
  },
  {
   "cell_type": "code",
   "execution_count": 20,
   "metadata": {},
   "outputs": [],
   "source": [
    "#list_user = df_user.user_id.values.tolist()\n",
    "df_user_feature = df_user_feature.loc[df_user_feature['user_id'].isin(df_user.user_id.values.tolist())]"
   ]
  },
  {
   "cell_type": "code",
   "execution_count": 21,
   "metadata": {},
   "outputs": [],
   "source": [
    "df_item_feature = df_item_feature.loc[df_item_feature['item_id'].isin(df_item.item_id.values.tolist())]"
   ]
  },
  {
   "cell_type": "code",
   "execution_count": 22,
   "metadata": {},
   "outputs": [],
   "source": [
    "mat_user_feature = get_interaction_matrix(df_user_feature,'user_id','feature','weight',user_to_index,ufeat_to_index)"
   ]
  },
  {
   "cell_type": "code",
   "execution_count": 23,
   "metadata": {},
   "outputs": [
    {
     "data": {
      "text/plain": [
       "<10045x301 sparse matrix of type '<class 'numpy.int64'>'\n",
       "\twith 12639 stored elements in COOrdinate format>"
      ]
     },
     "execution_count": 23,
     "metadata": {},
     "output_type": "execute_result"
    }
   ],
   "source": [
    "mat_user_feature"
   ]
  },
  {
   "cell_type": "code",
   "execution_count": 24,
   "metadata": {},
   "outputs": [],
   "source": [
    "mat_item_feature = get_interaction_matrix(df_item_feature,'item_id','feature','weight',item_to_index,ifeat_to_index)"
   ]
  },
  {
   "cell_type": "code",
   "execution_count": 25,
   "metadata": {},
   "outputs": [
    {
     "data": {
      "text/plain": [
       "<613x137 sparse matrix of type '<class 'numpy.int64'>'\n",
       "\twith 1839 stored elements in COOrdinate format>"
      ]
     },
     "execution_count": 25,
     "metadata": {},
     "output_type": "execute_result"
    }
   ],
   "source": [
    "mat_item_feature"
   ]
  },
  {
   "cell_type": "markdown",
   "metadata": {},
   "source": [
    "# Membangun model"
   ]
  },
  {
   "cell_type": "code",
   "execution_count": 26,
   "metadata": {},
   "outputs": [],
   "source": [
    "from lightfm import cross_validation"
   ]
  },
  {
   "cell_type": "code",
   "execution_count": 27,
   "metadata": {},
   "outputs": [],
   "source": [
    "mat_interaction_train,mat_interaction_test=cross_validation.random_train_test_split(interactions=mat_interaction)"
   ]
  },
  {
   "cell_type": "code",
   "execution_count": 28,
   "metadata": {},
   "outputs": [],
   "source": [
    "model = LightFM(loss='warp',learning_rate=0.05)"
   ]
  },
  {
   "cell_type": "code",
   "execution_count": 29,
   "metadata": {},
   "outputs": [
    {
     "name": "stdout",
     "output_type": "stream",
     "text": [
      "Epoch 0\n",
      "Epoch 1\n",
      "Epoch 2\n",
      "Epoch 3\n",
      "Epoch 4\n"
     ]
    },
    {
     "data": {
      "text/plain": [
       "<lightfm.lightfm.LightFM at 0x7f15b5388710>"
      ]
     },
     "execution_count": 29,
     "metadata": {},
     "output_type": "execute_result"
    }
   ],
   "source": [
    "model.fit(interactions=mat_interaction_train,\n",
    "          user_features=mat_user_feature,\n",
    "          item_features=mat_item_feature,\n",
    "          epochs=5,num_threads=4,\n",
    "          verbose=True)"
   ]
  },
  {
   "cell_type": "code",
   "execution_count": 30,
   "metadata": {},
   "outputs": [],
   "source": [
    "def calculate_auc_score(lightfm_model, interactions_matrix, \n",
    "                        item_features, user_features): \n",
    "    score = auc_score( \n",
    "        lightfm_model, interactions_matrix, \n",
    "        item_features=item_features, \n",
    "        user_features=user_features, \n",
    "        num_threads=4).mean()\n",
    "    return score"
   ]
  },
  {
   "cell_type": "code",
   "execution_count": 31,
   "metadata": {},
   "outputs": [
    {
     "data": {
      "text/plain": [
       "0.96655905"
      ]
     },
     "execution_count": 31,
     "metadata": {},
     "output_type": "execute_result"
    }
   ],
   "source": [
    "# AUC data train\n",
    "calculate_auc_score(model, mat_interaction_train,mat_item_feature,mat_user_feature)"
   ]
  },
  {
   "cell_type": "code",
   "execution_count": 32,
   "metadata": {},
   "outputs": [
    {
     "data": {
      "text/plain": [
       "0.9560843"
      ]
     },
     "execution_count": 32,
     "metadata": {},
     "output_type": "execute_result"
    }
   ],
   "source": [
    "#AUC data test\n",
    "calculate_auc_score(model, mat_interaction_test,mat_item_feature,mat_user_feature)"
   ]
  },
  {
   "cell_type": "markdown",
   "metadata": {},
   "source": [
    "ROC(Receiver Operating Characteristic) - AUC(Area Under Curve)\n",
    "ROC akan plot TRUE POSITIVE RATE (Nama lain recall) dengan FALSE POSITIVE RATE\n",
    "\n",
    "TPR (recall) : Perbandingan nilai yg true positive dengan total actual positive, dalam kata lain seberapa banyak nilai positive yang diprediksi positive dari keseluruhan nilai positive\n",
    "\n",
    "FPR : Perbandingan nilai False Positive dari keseluruhan actual negative, dalam kata lain nilai yang salah di prediksi sebagai positive dari keseluruhan nilai negative\n",
    "\n",
    "perbandingan antara TPR dan FPR akan membentuk curva keseimbangan. model yang optimal akan membentuk curva ROC yang jauh dari nilai diagonal, dan model yang buruk akan mendekati nilai diagonal. Oleh sebab itu untuk menentukan apakah model cukup baik atau tidak kita perlu menghitung AUC nya. jika curva jauh dari diagonal maka AUC akan berkisar pada nilai 1 sedangkan jika curva mendekati diagonal maka nilai AUC akan berkisar pada 0.5.\n",
    "\n",
    "jadi AUC model terbaik adalah 1 dan model terburuk adalah 0.5"
   ]
  },
  {
   "cell_type": "markdown",
   "metadata": {},
   "source": [
    "# Prediksi"
   ]
  },
  {
   "cell_type": "code",
   "execution_count": 33,
   "metadata": {},
   "outputs": [],
   "source": [
    "import scipy.sparse as sp"
   ]
  },
  {
   "cell_type": "code",
   "execution_count": 34,
   "metadata": {},
   "outputs": [],
   "source": [
    "from IPython.display import display_html\n",
    "def display_side_by_side(*args):\n",
    "    html_str=''\n",
    "    for df in args:\n",
    "        html_str+=df.to_html()\n",
    "    display_html(html_str.replace('table','table style=\"display:inline\"'),raw=True)"
   ]
  },
  {
   "cell_type": "code",
   "execution_count": 35,
   "metadata": {},
   "outputs": [],
   "source": [
    "#prediksi user-yang sudah memiliki interaksi sebelumnya\n",
    "def predict_user_has_interaction(user):\n",
    "    previous_item_id = df_interaction.loc[df_interaction['user_id'] == user][:3]['item_id']\n",
    "    df_previous_item = df_item.loc[df_item['item_id'].isin(previous_item_id)]\n",
    "    print('User Id (' + str(user) + \"): Previous Arena\")\n",
    "    display_side_by_side(\n",
    "            df_previous_item,\n",
    "            df_user.loc[df_user.user_id == user])\n",
    "    \n",
    "    item_id_pred = df_previous_item['item_id'].values.tolist()\n",
    "    #hanya pada item yang belum berinteraksi dengan user\n",
    "    df_use_for_prediction = df_item.loc[~df_item['item_id'].isin(item_id_pred)]\n",
    "    item_id_for_predict = df_use_for_prediction['item_id'].values.tolist()\n",
    "    \n",
    "    itemindex = [item_to_index[x] for x in item_id_for_predict]\n",
    "    \n",
    "    userindex = [user_to_index[user]]\n",
    "    scores = model.predict(\n",
    "                userindex,\n",
    "                itemindex,\n",
    "                item_features=mat_item_feature,\n",
    "                user_features=mat_user_feature)\n",
    "    \n",
    "    df_use_for_prediction['scores'] = scores\n",
    "    df_use_for_prediction = df_use_for_prediction.sort_values(by='scores', ascending=False)[:8]\n",
    "    print('User Id (' + str(user) + \"): Recommended Arena: \")\n",
    "    display(df_use_for_prediction)"
   ]
  },
  {
   "cell_type": "code",
   "execution_count": 36,
   "metadata": {},
   "outputs": [
    {
     "data": {
      "text/plain": [
       "18198"
      ]
     },
     "execution_count": 36,
     "metadata": {},
     "output_type": "execute_result"
    }
   ],
   "source": [
    "list_user= df_interaction.user_id.unique()\n",
    "rand_idx = np.random.randint(2793)\n",
    "random_user = list_user[rand_idx]\n",
    "random_user\n"
   ]
  },
  {
   "cell_type": "code",
   "execution_count": 37,
   "metadata": {},
   "outputs": [
    {
     "name": "stdout",
     "output_type": "stream",
     "text": [
      "User Id (18198): Previous Arena\n"
     ]
    },
    {
     "data": {
      "text/html": [
       "<table style=\"display:inline\" border=\"1\" class=\"dataframe\">\n",
       "  <thead>\n",
       "    <tr style=\"text-align: right;\">\n",
       "      <th></th>\n",
       "      <th>item_id</th>\n",
       "      <th>title</th>\n",
       "      <th>cat_id</th>\n",
       "      <th>cat_name</th>\n",
       "      <th>genre_id</th>\n",
       "      <th>genre_name</th>\n",
       "      <th>eo_id</th>\n",
       "    </tr>\n",
       "  </thead>\n",
       "  <tbody>\n",
       "    <tr>\n",
       "      <th>185</th>\n",
       "      <td>5700</td>\n",
       "      <td>BAHENOL</td>\n",
       "      <td>1</td>\n",
       "      <td>Layar Radio</td>\n",
       "      <td>5</td>\n",
       "      <td>Entertainment</td>\n",
       "      <td>14686</td>\n",
       "    </tr>\n",
       "  </tbody>\n",
       "</table style=\"display:inline\"><table style=\"display:inline\" border=\"1\" class=\"dataframe\">\n",
       "  <thead>\n",
       "    <tr style=\"text-align: right;\">\n",
       "      <th></th>\n",
       "      <th>user_id</th>\n",
       "      <th>birth_year</th>\n",
       "      <th>gender</th>\n",
       "      <th>category_subscribe</th>\n",
       "      <th>subscribe</th>\n",
       "    </tr>\n",
       "  </thead>\n",
       "  <tbody>\n",
       "    <tr>\n",
       "      <th>8872</th>\n",
       "      <td>18198</td>\n",
       "      <td>0</td>\n",
       "      <td>O</td>\n",
       "      <td>No_Categories</td>\n",
       "      <td>No_Subscribe</td>\n",
       "    </tr>\n",
       "  </tbody>\n",
       "</table style=\"display:inline\">"
      ]
     },
     "metadata": {},
     "output_type": "display_data"
    },
    {
     "name": "stdout",
     "output_type": "stream",
     "text": [
      "User Id (18198): Recommended Arena: \n"
     ]
    },
    {
     "name": "stderr",
     "output_type": "stream",
     "text": [
      "/home/sebangsa-api/hybrid/lib/python3.6/site-packages/ipykernel_launcher.py:24: SettingWithCopyWarning: \n",
      "A value is trying to be set on a copy of a slice from a DataFrame.\n",
      "Try using .loc[row_indexer,col_indexer] = value instead\n",
      "\n",
      "See the caveats in the documentation: https://pandas.pydata.org/pandas-docs/stable/user_guide/indexing.html#returning-a-view-versus-a-copy\n"
     ]
    },
    {
     "data": {
      "text/html": [
       "<div>\n",
       "<style scoped>\n",
       "    .dataframe tbody tr th:only-of-type {\n",
       "        vertical-align: middle;\n",
       "    }\n",
       "\n",
       "    .dataframe tbody tr th {\n",
       "        vertical-align: top;\n",
       "    }\n",
       "\n",
       "    .dataframe thead th {\n",
       "        text-align: right;\n",
       "    }\n",
       "</style>\n",
       "<table border=\"1\" class=\"dataframe\">\n",
       "  <thead>\n",
       "    <tr style=\"text-align: right;\">\n",
       "      <th></th>\n",
       "      <th>item_id</th>\n",
       "      <th>title</th>\n",
       "      <th>cat_id</th>\n",
       "      <th>cat_name</th>\n",
       "      <th>genre_id</th>\n",
       "      <th>genre_name</th>\n",
       "      <th>eo_id</th>\n",
       "      <th>scores</th>\n",
       "    </tr>\n",
       "  </thead>\n",
       "  <tbody>\n",
       "    <tr>\n",
       "      <th>565</th>\n",
       "      <td>347</td>\n",
       "      <td>CENTER STAGE</td>\n",
       "      <td>3</td>\n",
       "      <td>Kelas Bangsa</td>\n",
       "      <td>25</td>\n",
       "      <td>Others</td>\n",
       "      <td>726</td>\n",
       "      <td>-6.701956</td>\n",
       "    </tr>\n",
       "    <tr>\n",
       "      <th>258</th>\n",
       "      <td>5539</td>\n",
       "      <td>Ya Ampun Gaming! (YAG)</td>\n",
       "      <td>1</td>\n",
       "      <td>Layar Radio</td>\n",
       "      <td>9</td>\n",
       "      <td>Games</td>\n",
       "      <td>1623</td>\n",
       "      <td>-6.787117</td>\n",
       "    </tr>\n",
       "    <tr>\n",
       "      <th>276</th>\n",
       "      <td>5500</td>\n",
       "      <td>ARENA SPORT</td>\n",
       "      <td>1</td>\n",
       "      <td>Layar Radio</td>\n",
       "      <td>22</td>\n",
       "      <td>Sport</td>\n",
       "      <td>1623</td>\n",
       "      <td>-6.954854</td>\n",
       "    </tr>\n",
       "    <tr>\n",
       "      <th>251</th>\n",
       "      <td>5554</td>\n",
       "      <td>GoneWrong</td>\n",
       "      <td>1</td>\n",
       "      <td>Layar Radio</td>\n",
       "      <td>5</td>\n",
       "      <td>Entertainment</td>\n",
       "      <td>1623</td>\n",
       "      <td>-7.133410</td>\n",
       "    </tr>\n",
       "    <tr>\n",
       "      <th>253</th>\n",
       "      <td>5551</td>\n",
       "      <td>BROJOL (Ngobrol Bareng Ojol)</td>\n",
       "      <td>1</td>\n",
       "      <td>Layar Radio</td>\n",
       "      <td>5</td>\n",
       "      <td>Entertainment</td>\n",
       "      <td>1623</td>\n",
       "      <td>-7.133410</td>\n",
       "    </tr>\n",
       "    <tr>\n",
       "      <th>275</th>\n",
       "      <td>5503</td>\n",
       "      <td>Hallyunisasi</td>\n",
       "      <td>1</td>\n",
       "      <td>Layar Radio</td>\n",
       "      <td>5</td>\n",
       "      <td>Entertainment</td>\n",
       "      <td>1623</td>\n",
       "      <td>-7.133410</td>\n",
       "    </tr>\n",
       "    <tr>\n",
       "      <th>272</th>\n",
       "      <td>5508</td>\n",
       "      <td>Stand Up Clinic</td>\n",
       "      <td>1</td>\n",
       "      <td>Layar Radio</td>\n",
       "      <td>5</td>\n",
       "      <td>Entertainment</td>\n",
       "      <td>1623</td>\n",
       "      <td>-7.133410</td>\n",
       "    </tr>\n",
       "    <tr>\n",
       "      <th>206</th>\n",
       "      <td>5652</td>\n",
       "      <td>SIMULASI ARENA WADEZIIIG</td>\n",
       "      <td>1</td>\n",
       "      <td>Layar Radio</td>\n",
       "      <td>5</td>\n",
       "      <td>Entertainment</td>\n",
       "      <td>1623</td>\n",
       "      <td>-7.133410</td>\n",
       "    </tr>\n",
       "  </tbody>\n",
       "</table>\n",
       "</div>"
      ],
      "text/plain": [
       "     item_id                         title  cat_id      cat_name  genre_id  \\\n",
       "565      347                 CENTER STAGE        3  Kelas Bangsa        25   \n",
       "258     5539        Ya Ampun Gaming! (YAG)       1   Layar Radio         9   \n",
       "276     5500                  ARENA SPORT        1   Layar Radio        22   \n",
       "251     5554                     GoneWrong       1   Layar Radio         5   \n",
       "253     5551  BROJOL (Ngobrol Bareng Ojol)       1   Layar Radio         5   \n",
       "275     5503                  Hallyunisasi       1   Layar Radio         5   \n",
       "272     5508               Stand Up Clinic       1   Layar Radio         5   \n",
       "206     5652      SIMULASI ARENA WADEZIIIG       1   Layar Radio         5   \n",
       "\n",
       "        genre_name  eo_id    scores  \n",
       "565         Others    726 -6.701956  \n",
       "258          Games   1623 -6.787117  \n",
       "276          Sport   1623 -6.954854  \n",
       "251  Entertainment   1623 -7.133410  \n",
       "253  Entertainment   1623 -7.133410  \n",
       "275  Entertainment   1623 -7.133410  \n",
       "272  Entertainment   1623 -7.133410  \n",
       "206  Entertainment   1623 -7.133410  "
      ]
     },
     "metadata": {},
     "output_type": "display_data"
    }
   ],
   "source": [
    "predict_user_has_interaction(random_user)"
   ]
  },
  {
   "cell_type": "code",
   "execution_count": 38,
   "metadata": {},
   "outputs": [],
   "source": [
    "def create_user_feature_matrix(features=[]):\n",
    "    col = [ufeat_to_index[x] for x in features]\n",
    "    Y = len(user_list_feature)\n",
    "    matx = np.zeros((1,Y)) # bangun matrix zeros\n",
    "    for a in col:\n",
    "        matx[0][a]=1\n",
    "    sparse = sp.csc_matrix(matx)\n",
    "    return sparse"
   ]
  },
  {
   "cell_type": "code",
   "execution_count": 39,
   "metadata": {},
   "outputs": [],
   "source": [
    "#prediksi COLD-START user\n",
    "def predict_cold_start(user_feature_matrix):\n",
    "    \n",
    "    scores = model.predict(\n",
    "                0,\n",
    "                np.arange(mat_interaction.shape[1]),\n",
    "                item_features=mat_item_feature,\n",
    "                user_features=user_feature_matrix)\n",
    "    \n",
    "    df_result = df_item\n",
    "    df_result['scores']= scores\n",
    "    df_result = df_result.sort_values(by='scores', ascending=False)[:10]\n",
    "    print(\"Recommended Arena: \")\n",
    "    display(df_result)"
   ]
  },
  {
   "cell_type": "code",
   "execution_count": 40,
   "metadata": {},
   "outputs": [],
   "source": [
    "def recommend_new_user(str_features):\n",
    "    features = str_features.split(',')\n",
    "    matrix = create_user_feature_matrix(features)\n",
    "    predict_cold_start(matrix)"
   ]
  },
  {
   "cell_type": "code",
   "execution_count": 41,
   "metadata": {},
   "outputs": [
    {
     "name": "stdout",
     "output_type": "stream",
     "text": [
      "Recommended Arena: \n"
     ]
    },
    {
     "data": {
      "text/html": [
       "<div>\n",
       "<style scoped>\n",
       "    .dataframe tbody tr th:only-of-type {\n",
       "        vertical-align: middle;\n",
       "    }\n",
       "\n",
       "    .dataframe tbody tr th {\n",
       "        vertical-align: top;\n",
       "    }\n",
       "\n",
       "    .dataframe thead th {\n",
       "        text-align: right;\n",
       "    }\n",
       "</style>\n",
       "<table border=\"1\" class=\"dataframe\">\n",
       "  <thead>\n",
       "    <tr style=\"text-align: right;\">\n",
       "      <th></th>\n",
       "      <th>item_id</th>\n",
       "      <th>title</th>\n",
       "      <th>cat_id</th>\n",
       "      <th>cat_name</th>\n",
       "      <th>genre_id</th>\n",
       "      <th>genre_name</th>\n",
       "      <th>eo_id</th>\n",
       "      <th>scores</th>\n",
       "    </tr>\n",
       "  </thead>\n",
       "  <tbody>\n",
       "    <tr>\n",
       "      <th>258</th>\n",
       "      <td>5539</td>\n",
       "      <td>Ya Ampun Gaming! (YAG)</td>\n",
       "      <td>1</td>\n",
       "      <td>Layar Radio</td>\n",
       "      <td>9</td>\n",
       "      <td>Games</td>\n",
       "      <td>1623</td>\n",
       "      <td>-3.728258</td>\n",
       "    </tr>\n",
       "    <tr>\n",
       "      <th>276</th>\n",
       "      <td>5500</td>\n",
       "      <td>ARENA SPORT</td>\n",
       "      <td>1</td>\n",
       "      <td>Layar Radio</td>\n",
       "      <td>22</td>\n",
       "      <td>Sport</td>\n",
       "      <td>1623</td>\n",
       "      <td>-3.788374</td>\n",
       "    </tr>\n",
       "    <tr>\n",
       "      <th>565</th>\n",
       "      <td>347</td>\n",
       "      <td>CENTER STAGE</td>\n",
       "      <td>3</td>\n",
       "      <td>Kelas Bangsa</td>\n",
       "      <td>25</td>\n",
       "      <td>Others</td>\n",
       "      <td>726</td>\n",
       "      <td>-3.828887</td>\n",
       "    </tr>\n",
       "    <tr>\n",
       "      <th>274</th>\n",
       "      <td>5505</td>\n",
       "      <td>BVOICE RADIO</td>\n",
       "      <td>1</td>\n",
       "      <td>Layar Radio</td>\n",
       "      <td>5</td>\n",
       "      <td>Entertainment</td>\n",
       "      <td>10732</td>\n",
       "      <td>-3.970289</td>\n",
       "    </tr>\n",
       "    <tr>\n",
       "      <th>253</th>\n",
       "      <td>5551</td>\n",
       "      <td>BROJOL (Ngobrol Bareng Ojol)</td>\n",
       "      <td>1</td>\n",
       "      <td>Layar Radio</td>\n",
       "      <td>5</td>\n",
       "      <td>Entertainment</td>\n",
       "      <td>1623</td>\n",
       "      <td>-4.012486</td>\n",
       "    </tr>\n",
       "    <tr>\n",
       "      <th>206</th>\n",
       "      <td>5652</td>\n",
       "      <td>SIMULASI ARENA WADEZIIIG</td>\n",
       "      <td>1</td>\n",
       "      <td>Layar Radio</td>\n",
       "      <td>5</td>\n",
       "      <td>Entertainment</td>\n",
       "      <td>1623</td>\n",
       "      <td>-4.012486</td>\n",
       "    </tr>\n",
       "    <tr>\n",
       "      <th>251</th>\n",
       "      <td>5554</td>\n",
       "      <td>GoneWrong</td>\n",
       "      <td>1</td>\n",
       "      <td>Layar Radio</td>\n",
       "      <td>5</td>\n",
       "      <td>Entertainment</td>\n",
       "      <td>1623</td>\n",
       "      <td>-4.012486</td>\n",
       "    </tr>\n",
       "    <tr>\n",
       "      <th>272</th>\n",
       "      <td>5508</td>\n",
       "      <td>Stand Up Clinic</td>\n",
       "      <td>1</td>\n",
       "      <td>Layar Radio</td>\n",
       "      <td>5</td>\n",
       "      <td>Entertainment</td>\n",
       "      <td>1623</td>\n",
       "      <td>-4.012486</td>\n",
       "    </tr>\n",
       "    <tr>\n",
       "      <th>275</th>\n",
       "      <td>5503</td>\n",
       "      <td>Hallyunisasi</td>\n",
       "      <td>1</td>\n",
       "      <td>Layar Radio</td>\n",
       "      <td>5</td>\n",
       "      <td>Entertainment</td>\n",
       "      <td>1623</td>\n",
       "      <td>-4.012486</td>\n",
       "    </tr>\n",
       "    <tr>\n",
       "      <th>531</th>\n",
       "      <td>419</td>\n",
       "      <td>Macet Bareng Arena'</td>\n",
       "      <td>2</td>\n",
       "      <td>ArenaCast</td>\n",
       "      <td>5</td>\n",
       "      <td>Entertainment</td>\n",
       "      <td>1623</td>\n",
       "      <td>-4.528073</td>\n",
       "    </tr>\n",
       "  </tbody>\n",
       "</table>\n",
       "</div>"
      ],
      "text/plain": [
       "     item_id                         title  cat_id      cat_name  genre_id  \\\n",
       "258     5539        Ya Ampun Gaming! (YAG)       1   Layar Radio         9   \n",
       "276     5500                  ARENA SPORT        1   Layar Radio        22   \n",
       "565      347                 CENTER STAGE        3  Kelas Bangsa        25   \n",
       "274     5505                  BVOICE RADIO       1   Layar Radio         5   \n",
       "253     5551  BROJOL (Ngobrol Bareng Ojol)       1   Layar Radio         5   \n",
       "206     5652      SIMULASI ARENA WADEZIIIG       1   Layar Radio         5   \n",
       "251     5554                     GoneWrong       1   Layar Radio         5   \n",
       "272     5508               Stand Up Clinic       1   Layar Radio         5   \n",
       "275     5503                  Hallyunisasi       1   Layar Radio         5   \n",
       "531      419           Macet Bareng Arena'       2     ArenaCast         5   \n",
       "\n",
       "        genre_name  eo_id    scores  \n",
       "258          Games   1623 -3.728258  \n",
       "276          Sport   1623 -3.788374  \n",
       "565         Others    726 -3.828887  \n",
       "274  Entertainment  10732 -3.970289  \n",
       "253  Entertainment   1623 -4.012486  \n",
       "206  Entertainment   1623 -4.012486  \n",
       "251  Entertainment   1623 -4.012486  \n",
       "272  Entertainment   1623 -4.012486  \n",
       "275  Entertainment   1623 -4.012486  \n",
       "531  Entertainment   1623 -4.528073  "
      ]
     },
     "metadata": {},
     "output_type": "display_data"
    }
   ],
   "source": [
    "recommend_new_user('P')"
   ]
  },
  {
   "cell_type": "markdown",
   "metadata": {},
   "source": [
    "# END\n",
    "# tinggal hyperparameter tuning"
   ]
  },
  {
   "cell_type": "code",
   "execution_count": 57,
   "metadata": {},
   "outputs": [],
   "source": [
    "from sklearn.model_selection import RandomizedSearchCV\n",
    "from skopt import gp_minimize\n",
    "from lightfm.evaluation import precision_at_k"
   ]
  },
  {
   "cell_type": "code",
   "execution_count": 70,
   "metadata": {},
   "outputs": [],
   "source": [
    "def hyperparameter_tuning(params):\n",
    "    epochs, learning_rate, no_components, item_alpha, user_alpha,ln_sch = params\n",
    "    \n",
    "    model_tuned = LightFM(loss='warp',\n",
    "                   random_state=2020,\n",
    "                   learning_rate=learning_rate,\n",
    "                   no_components=no_components,\n",
    "                   user_alpha=user_alpha,\n",
    "                   item_alpha=item_alpha,\n",
    "                   learning_schedule=ln_sch)\n",
    "    model_tuned.fit(mat_interaction_train, \n",
    "                    epochs=epochs,\n",
    "                    item_features=mat_item_feature,\n",
    "                    user_features=mat_user_feature,\n",
    "                    num_threads=4,verbose=False)\n",
    "    patks = precision_at_k(model_tuned, mat_interaction_test,\n",
    "                           item_features=mat_item_feature,\n",
    "                           user_features=mat_user_feature,\n",
    "                           train_interactions=None,\n",
    "                           k=5)\n",
    "    \n",
    "    mapatk = np.mean(patks)\n",
    "    out = -mapatk # want to minimize objective\n",
    "    \n",
    "    if np.abs(out + 1) < 0.01 or out < -1.0:\n",
    "        return 0.0 # corresponds to high p@k\n",
    "    else:\n",
    "        return out\n",
    "    "
   ]
  },
  {
   "cell_type": "code",
   "execution_count": 64,
   "metadata": {},
   "outputs": [],
   "source": [
    "space = [(1, 260), # epochs\n",
    "        (10**-3, 10**-1, 'log-uniform'), # learning rate\n",
    "        (20, 200), # no_components\n",
    "        (10**-6, 10**-1, 'log-uniform'), # item_alpha\n",
    "        (10**-6, 10**-1, 'log-uniform'), # user_alpha\n",
    "        ('adagrad','adadelta'), #learning_schedule\n",
    "        ]"
   ]
  },
  {
   "cell_type": "code",
   "execution_count": 74,
   "metadata": {},
   "outputs": [
    {
     "name": "stdout",
     "output_type": "stream",
     "text": [
      "Iteration No: 1 started. Evaluating function at random point.\n",
      "Iteration No: 1 ended. Evaluation done at random point.\n",
      "Time taken: 4.6844\n",
      "Function value obtained: -0.0742\n",
      "Current minimum: -0.0742\n",
      "Iteration No: 2 started. Evaluating function at random point.\n",
      "Iteration No: 2 ended. Evaluation done at random point.\n",
      "Time taken: 1.4138\n",
      "Function value obtained: -0.0456\n",
      "Current minimum: -0.0742\n",
      "Iteration No: 3 started. Evaluating function at random point.\n",
      "Iteration No: 3 ended. Evaluation done at random point.\n",
      "Time taken: 2.5161\n",
      "Function value obtained: -0.0712\n",
      "Current minimum: -0.0742\n",
      "Iteration No: 4 started. Evaluating function at random point.\n",
      "Iteration No: 4 ended. Evaluation done at random point.\n",
      "Time taken: 1.2390\n",
      "Function value obtained: -0.0658\n",
      "Current minimum: -0.0742\n",
      "Iteration No: 5 started. Evaluating function at random point.\n",
      "Iteration No: 5 ended. Evaluation done at random point.\n",
      "Time taken: 4.2207\n",
      "Function value obtained: -0.0718\n",
      "Current minimum: -0.0742\n",
      "Iteration No: 6 started. Evaluating function at random point.\n",
      "Iteration No: 6 ended. Evaluation done at random point.\n",
      "Time taken: 0.7317\n",
      "Function value obtained: -0.0691\n",
      "Current minimum: -0.0742\n",
      "Iteration No: 7 started. Evaluating function at random point.\n",
      "Iteration No: 7 ended. Evaluation done at random point.\n",
      "Time taken: 2.8097\n",
      "Function value obtained: -0.0811\n",
      "Current minimum: -0.0811\n",
      "Iteration No: 8 started. Evaluating function at random point.\n",
      "Iteration No: 8 ended. Evaluation done at random point.\n",
      "Time taken: 1.0460\n",
      "Function value obtained: -0.0668\n",
      "Current minimum: -0.0811\n",
      "Iteration No: 9 started. Evaluating function at random point.\n",
      "Iteration No: 9 ended. Evaluation done at random point.\n",
      "Time taken: 1.5090\n",
      "Function value obtained: -0.0565\n",
      "Current minimum: -0.0811\n",
      "Iteration No: 10 started. Evaluating function at random point.\n",
      "Iteration No: 10 ended. Evaluation done at random point.\n",
      "Time taken: 4.8587\n",
      "Function value obtained: -0.0529\n",
      "Current minimum: -0.0811\n",
      "Iteration No: 11 started. Searching for the next optimal point.\n",
      "Iteration No: 11 ended. Search finished for the next optimal point.\n",
      "Time taken: 0.7843\n",
      "Function value obtained: -0.0477\n",
      "Current minimum: -0.0811\n",
      "Iteration No: 12 started. Searching for the next optimal point.\n",
      "Iteration No: 12 ended. Search finished for the next optimal point.\n",
      "Time taken: 0.7601\n",
      "Function value obtained: -0.0599\n",
      "Current minimum: -0.0811\n",
      "Iteration No: 13 started. Searching for the next optimal point.\n",
      "Iteration No: 13 ended. Search finished for the next optimal point.\n",
      "Time taken: 9.8907\n",
      "Function value obtained: -0.0601\n",
      "Current minimum: -0.0811\n",
      "Iteration No: 14 started. Searching for the next optimal point.\n",
      "Iteration No: 14 ended. Search finished for the next optimal point.\n",
      "Time taken: 2.3900\n",
      "Function value obtained: -0.0805\n",
      "Current minimum: -0.0811\n",
      "Iteration No: 15 started. Searching for the next optimal point.\n",
      "Iteration No: 15 ended. Search finished for the next optimal point.\n",
      "Time taken: 10.2757\n",
      "Function value obtained: -0.0695\n",
      "Current minimum: -0.0811\n",
      "Iteration No: 16 started. Searching for the next optimal point.\n",
      "Iteration No: 16 ended. Search finished for the next optimal point.\n",
      "Time taken: 5.9710\n",
      "Function value obtained: -0.0767\n",
      "Current minimum: -0.0811\n",
      "Iteration No: 17 started. Searching for the next optimal point.\n",
      "Iteration No: 17 ended. Search finished for the next optimal point.\n",
      "Time taken: 0.3246\n",
      "Function value obtained: -0.0832\n",
      "Current minimum: -0.0832\n",
      "Iteration No: 18 started. Searching for the next optimal point.\n",
      "Iteration No: 18 ended. Search finished for the next optimal point.\n",
      "Time taken: 1.7265\n",
      "Function value obtained: -0.0603\n",
      "Current minimum: -0.0832\n",
      "Iteration No: 19 started. Searching for the next optimal point.\n",
      "Iteration No: 19 ended. Search finished for the next optimal point.\n",
      "Time taken: 0.6799\n",
      "Function value obtained: -0.0410\n",
      "Current minimum: -0.0832\n",
      "Iteration No: 20 started. Searching for the next optimal point.\n",
      "Iteration No: 20 ended. Search finished for the next optimal point.\n",
      "Time taken: 3.1694\n",
      "Function value obtained: -0.0702\n",
      "Current minimum: -0.0832\n",
      "Iteration No: 21 started. Searching for the next optimal point.\n",
      "Iteration No: 21 ended. Search finished for the next optimal point.\n",
      "Time taken: 4.6527\n",
      "Function value obtained: -0.0704\n",
      "Current minimum: -0.0832\n",
      "Iteration No: 22 started. Searching for the next optimal point.\n",
      "Iteration No: 22 ended. Search finished for the next optimal point.\n",
      "Time taken: 5.4155\n",
      "Function value obtained: -0.0718\n",
      "Current minimum: -0.0832\n",
      "Iteration No: 23 started. Searching for the next optimal point.\n",
      "Iteration No: 23 ended. Search finished for the next optimal point.\n",
      "Time taken: 8.4730\n",
      "Function value obtained: -0.0735\n",
      "Current minimum: -0.0832\n",
      "Iteration No: 24 started. Searching for the next optimal point.\n",
      "Iteration No: 24 ended. Search finished for the next optimal point.\n",
      "Time taken: 4.0717\n",
      "Function value obtained: -0.0672\n",
      "Current minimum: -0.0832\n",
      "Iteration No: 25 started. Searching for the next optimal point.\n",
      "Iteration No: 25 ended. Search finished for the next optimal point.\n",
      "Time taken: 0.9807\n",
      "Function value obtained: -0.0798\n",
      "Current minimum: -0.0832\n",
      "Iteration No: 26 started. Searching for the next optimal point.\n",
      "Iteration No: 26 ended. Search finished for the next optimal point.\n",
      "Time taken: 2.8519\n",
      "Function value obtained: -0.0721\n",
      "Current minimum: -0.0832\n",
      "Iteration No: 27 started. Searching for the next optimal point.\n",
      "Iteration No: 27 ended. Search finished for the next optimal point.\n",
      "Time taken: 0.6811\n",
      "Function value obtained: -0.0616\n",
      "Current minimum: -0.0832\n",
      "Iteration No: 28 started. Searching for the next optimal point.\n",
      "Iteration No: 28 ended. Search finished for the next optimal point.\n",
      "Time taken: 6.0963\n",
      "Function value obtained: -0.0592\n",
      "Current minimum: -0.0832\n",
      "Iteration No: 29 started. Searching for the next optimal point.\n",
      "Iteration No: 29 ended. Search finished for the next optimal point.\n",
      "Time taken: 0.7936\n",
      "Function value obtained: -0.0668\n",
      "Current minimum: -0.0832\n",
      "Iteration No: 30 started. Searching for the next optimal point.\n",
      "Iteration No: 30 ended. Search finished for the next optimal point.\n",
      "Time taken: 4.6476\n",
      "Function value obtained: -0.0475\n",
      "Current minimum: -0.0832\n",
      "Iteration No: 31 started. Searching for the next optimal point.\n",
      "Iteration No: 31 ended. Search finished for the next optimal point.\n",
      "Time taken: 11.4836\n",
      "Function value obtained: -0.0641\n",
      "Current minimum: -0.0832\n",
      "Iteration No: 32 started. Searching for the next optimal point.\n",
      "Iteration No: 32 ended. Search finished for the next optimal point.\n",
      "Time taken: 4.3845\n",
      "Function value obtained: -0.0460\n",
      "Current minimum: -0.0832\n",
      "Iteration No: 33 started. Searching for the next optimal point.\n"
     ]
    },
    {
     "ename": "ValueError",
     "evalue": "Not all estimated parameters are finite, your model may have diverged. Try decreasing the learning rate or normalising feature values and sample weights",
     "output_type": "error",
     "traceback": [
      "\u001b[0;31m---------------------------------------------------------------------------\u001b[0m",
      "\u001b[0;31mValueError\u001b[0m                                Traceback (most recent call last)",
      "\u001b[0;32m<ipython-input-74-8ff1231830dd>\u001b[0m in \u001b[0;36m<module>\u001b[0;34m\u001b[0m\n\u001b[1;32m      3\u001b[0m                             \u001b[0mn_calls\u001b[0m\u001b[0;34m=\u001b[0m\u001b[0;36m100\u001b[0m\u001b[0;34m,\u001b[0m\u001b[0;34m\u001b[0m\u001b[0;34m\u001b[0m\u001b[0m\n\u001b[1;32m      4\u001b[0m                             \u001b[0mrandom_state\u001b[0m\u001b[0;34m=\u001b[0m\u001b[0;36m0\u001b[0m\u001b[0;34m,\u001b[0m\u001b[0;34m\u001b[0m\u001b[0;34m\u001b[0m\u001b[0m\n\u001b[0;32m----> 5\u001b[0;31m                             verbose=True)\n\u001b[0m",
      "\u001b[0;32m~/hybrid/lib/python3.6/site-packages/skopt/optimizer/gp.py\u001b[0m in \u001b[0;36mgp_minimize\u001b[0;34m(func, dimensions, base_estimator, n_calls, n_random_starts, acq_func, acq_optimizer, x0, y0, random_state, verbose, callback, n_points, n_restarts_optimizer, xi, kappa, noise, n_jobs, model_queue_size)\u001b[0m\n\u001b[1;32m    269\u001b[0m         \u001b[0mn_restarts_optimizer\u001b[0m\u001b[0;34m=\u001b[0m\u001b[0mn_restarts_optimizer\u001b[0m\u001b[0;34m,\u001b[0m\u001b[0;34m\u001b[0m\u001b[0;34m\u001b[0m\u001b[0m\n\u001b[1;32m    270\u001b[0m         \u001b[0mx0\u001b[0m\u001b[0;34m=\u001b[0m\u001b[0mx0\u001b[0m\u001b[0;34m,\u001b[0m \u001b[0my0\u001b[0m\u001b[0;34m=\u001b[0m\u001b[0my0\u001b[0m\u001b[0;34m,\u001b[0m \u001b[0mrandom_state\u001b[0m\u001b[0;34m=\u001b[0m\u001b[0mrng\u001b[0m\u001b[0;34m,\u001b[0m \u001b[0mverbose\u001b[0m\u001b[0;34m=\u001b[0m\u001b[0mverbose\u001b[0m\u001b[0;34m,\u001b[0m\u001b[0;34m\u001b[0m\u001b[0;34m\u001b[0m\u001b[0m\n\u001b[0;32m--> 271\u001b[0;31m         callback=callback, n_jobs=n_jobs, model_queue_size=model_queue_size)\n\u001b[0m",
      "\u001b[0;32m~/hybrid/lib/python3.6/site-packages/skopt/optimizer/base.py\u001b[0m in \u001b[0;36mbase_minimize\u001b[0;34m(func, dimensions, base_estimator, n_calls, n_random_starts, acq_func, acq_optimizer, x0, y0, random_state, verbose, callback, n_points, n_restarts_optimizer, xi, kappa, n_jobs, model_queue_size)\u001b[0m\n\u001b[1;32m    270\u001b[0m     \u001b[0;32mfor\u001b[0m \u001b[0mn\u001b[0m \u001b[0;32min\u001b[0m \u001b[0mrange\u001b[0m\u001b[0;34m(\u001b[0m\u001b[0mn_calls\u001b[0m\u001b[0;34m)\u001b[0m\u001b[0;34m:\u001b[0m\u001b[0;34m\u001b[0m\u001b[0;34m\u001b[0m\u001b[0m\n\u001b[1;32m    271\u001b[0m         \u001b[0mnext_x\u001b[0m \u001b[0;34m=\u001b[0m \u001b[0moptimizer\u001b[0m\u001b[0;34m.\u001b[0m\u001b[0mask\u001b[0m\u001b[0;34m(\u001b[0m\u001b[0;34m)\u001b[0m\u001b[0;34m\u001b[0m\u001b[0;34m\u001b[0m\u001b[0m\n\u001b[0;32m--> 272\u001b[0;31m         \u001b[0mnext_y\u001b[0m \u001b[0;34m=\u001b[0m \u001b[0mfunc\u001b[0m\u001b[0;34m(\u001b[0m\u001b[0mnext_x\u001b[0m\u001b[0;34m)\u001b[0m\u001b[0;34m\u001b[0m\u001b[0;34m\u001b[0m\u001b[0m\n\u001b[0m\u001b[1;32m    273\u001b[0m         \u001b[0mresult\u001b[0m \u001b[0;34m=\u001b[0m \u001b[0moptimizer\u001b[0m\u001b[0;34m.\u001b[0m\u001b[0mtell\u001b[0m\u001b[0;34m(\u001b[0m\u001b[0mnext_x\u001b[0m\u001b[0;34m,\u001b[0m \u001b[0mnext_y\u001b[0m\u001b[0;34m)\u001b[0m\u001b[0;34m\u001b[0m\u001b[0;34m\u001b[0m\u001b[0m\n\u001b[1;32m    274\u001b[0m         \u001b[0mresult\u001b[0m\u001b[0;34m.\u001b[0m\u001b[0mspecs\u001b[0m \u001b[0;34m=\u001b[0m \u001b[0mspecs\u001b[0m\u001b[0;34m\u001b[0m\u001b[0;34m\u001b[0m\u001b[0m\n",
      "\u001b[0;32m<ipython-input-70-9d2b614fef50>\u001b[0m in \u001b[0;36mhyperparameter_tuning\u001b[0;34m(params)\u001b[0m\n\u001b[1;32m     13\u001b[0m                     \u001b[0mitem_features\u001b[0m\u001b[0;34m=\u001b[0m\u001b[0mmat_item_feature\u001b[0m\u001b[0;34m,\u001b[0m\u001b[0;34m\u001b[0m\u001b[0;34m\u001b[0m\u001b[0m\n\u001b[1;32m     14\u001b[0m                     \u001b[0muser_features\u001b[0m\u001b[0;34m=\u001b[0m\u001b[0mmat_user_feature\u001b[0m\u001b[0;34m,\u001b[0m\u001b[0;34m\u001b[0m\u001b[0;34m\u001b[0m\u001b[0m\n\u001b[0;32m---> 15\u001b[0;31m                     num_threads=4,verbose=False)\n\u001b[0m\u001b[1;32m     16\u001b[0m     patks = precision_at_k(model_tuned, mat_interaction_test,\n\u001b[1;32m     17\u001b[0m                            \u001b[0mitem_features\u001b[0m\u001b[0;34m=\u001b[0m\u001b[0mmat_item_feature\u001b[0m\u001b[0;34m,\u001b[0m\u001b[0;34m\u001b[0m\u001b[0;34m\u001b[0m\u001b[0m\n",
      "\u001b[0;32m~/hybrid/lib/python3.6/site-packages/lightfm/lightfm.py\u001b[0m in \u001b[0;36mfit\u001b[0;34m(self, interactions, user_features, item_features, sample_weight, epochs, num_threads, verbose)\u001b[0m\n\u001b[1;32m    477\u001b[0m                                 \u001b[0mepochs\u001b[0m\u001b[0;34m=\u001b[0m\u001b[0mepochs\u001b[0m\u001b[0;34m,\u001b[0m\u001b[0;34m\u001b[0m\u001b[0;34m\u001b[0m\u001b[0m\n\u001b[1;32m    478\u001b[0m                                 \u001b[0mnum_threads\u001b[0m\u001b[0;34m=\u001b[0m\u001b[0mnum_threads\u001b[0m\u001b[0;34m,\u001b[0m\u001b[0;34m\u001b[0m\u001b[0;34m\u001b[0m\u001b[0m\n\u001b[0;32m--> 479\u001b[0;31m                                 verbose=verbose)\n\u001b[0m\u001b[1;32m    480\u001b[0m \u001b[0;34m\u001b[0m\u001b[0m\n\u001b[1;32m    481\u001b[0m     def fit_partial(self, interactions,\n",
      "\u001b[0;32m~/hybrid/lib/python3.6/site-packages/lightfm/lightfm.py\u001b[0m in \u001b[0;36mfit_partial\u001b[0;34m(self, interactions, user_features, item_features, sample_weight, epochs, num_threads, verbose)\u001b[0m\n\u001b[1;32m    576\u001b[0m                             self.loss)\n\u001b[1;32m    577\u001b[0m \u001b[0;34m\u001b[0m\u001b[0m\n\u001b[0;32m--> 578\u001b[0;31m             \u001b[0mself\u001b[0m\u001b[0;34m.\u001b[0m\u001b[0m_check_finite\u001b[0m\u001b[0;34m(\u001b[0m\u001b[0;34m)\u001b[0m\u001b[0;34m\u001b[0m\u001b[0;34m\u001b[0m\u001b[0m\n\u001b[0m\u001b[1;32m    579\u001b[0m \u001b[0;34m\u001b[0m\u001b[0m\n\u001b[1;32m    580\u001b[0m         \u001b[0;32mreturn\u001b[0m \u001b[0mself\u001b[0m\u001b[0;34m\u001b[0m\u001b[0;34m\u001b[0m\u001b[0m\n",
      "\u001b[0;32m~/hybrid/lib/python3.6/site-packages/lightfm/lightfm.py\u001b[0m in \u001b[0;36m_check_finite\u001b[0;34m(self)\u001b[0m\n\u001b[1;32m    411\u001b[0m             \u001b[0;31m# large boolean temporary.\u001b[0m\u001b[0;34m\u001b[0m\u001b[0;34m\u001b[0m\u001b[0;34m\u001b[0m\u001b[0m\n\u001b[1;32m    412\u001b[0m             \u001b[0;32mif\u001b[0m \u001b[0;32mnot\u001b[0m \u001b[0mnp\u001b[0m\u001b[0;34m.\u001b[0m\u001b[0misfinite\u001b[0m\u001b[0;34m(\u001b[0m\u001b[0mnp\u001b[0m\u001b[0;34m.\u001b[0m\u001b[0msum\u001b[0m\u001b[0;34m(\u001b[0m\u001b[0mparameter\u001b[0m\u001b[0;34m)\u001b[0m\u001b[0;34m)\u001b[0m\u001b[0;34m:\u001b[0m\u001b[0;34m\u001b[0m\u001b[0;34m\u001b[0m\u001b[0m\n\u001b[0;32m--> 413\u001b[0;31m                 raise ValueError(\"Not all estimated parameters are finite,\"\n\u001b[0m\u001b[1;32m    414\u001b[0m                                  \u001b[0;34m\" your model may have diverged. Try decreasing\"\u001b[0m\u001b[0;34m\u001b[0m\u001b[0;34m\u001b[0m\u001b[0m\n\u001b[1;32m    415\u001b[0m                                  \u001b[0;34m\" the learning rate or normalising feature values\"\u001b[0m\u001b[0;34m\u001b[0m\u001b[0;34m\u001b[0m\u001b[0m\n",
      "\u001b[0;31mValueError\u001b[0m: Not all estimated parameters are finite, your model may have diverged. Try decreasing the learning rate or normalising feature values and sample weights"
     ]
    }
   ],
   "source": [
    "best_options = gp_minimize(hyperparameter_tuning,\n",
    "                            space,\n",
    "                            n_calls=100,\n",
    "                            random_state=0,\n",
    "                            verbose=True)"
   ]
  },
  {
   "cell_type": "code",
   "execution_count": 75,
   "metadata": {},
   "outputs": [],
   "source": [
    "best_epochs, best_learning_rate, best_no_components, best_item_alpha,\\\n",
    "best_user_alpha,best_ln_sch = best_options.x"
   ]
  },
  {
   "cell_type": "code",
   "execution_count": 76,
   "metadata": {},
   "outputs": [
    {
     "name": "stdout",
     "output_type": "stream",
     "text": [
      "[37, 0.054976174551199165, 105, 0.010105405843110161, 0.0004003016661601729, 'adadelta']\n",
      "-0.08907563\n"
     ]
    }
   ],
   "source": [
    "print (best_options.x)\n",
    "print (best_options.fun)"
   ]
  },
  {
   "cell_type": "code",
   "execution_count": 77,
   "metadata": {},
   "outputs": [
    {
     "data": {
      "text/plain": [
       "<lightfm.lightfm.LightFM at 0x7f15b54c13c8>"
      ]
     },
     "execution_count": 77,
     "metadata": {},
     "output_type": "execute_result"
    }
   ],
   "source": [
    "best_model = LightFM(loss='warp',random_state=2020,learning_rate=best_learning_rate,\n",
    "                    no_components=best_no_components,user_alpha=best_user_alpha,\n",
    "                    item_alpha=best_item_alpha,learning_schedule=best_ln_sch)\n",
    "best_model.fit(mat_interaction_train, \n",
    "                    epochs=best_epochs,\n",
    "                    item_features=mat_item_feature,\n",
    "                    user_features=mat_user_feature,\n",
    "                    num_threads=4,verbose=False)"
   ]
  },
  {
   "cell_type": "code",
   "execution_count": 78,
   "metadata": {},
   "outputs": [
    {
     "data": {
      "text/plain": [
       "0.9526424"
      ]
     },
     "execution_count": 78,
     "metadata": {},
     "output_type": "execute_result"
    }
   ],
   "source": [
    "calculate_auc_score(best_model, mat_interaction_test,mat_item_feature,mat_user_feature)"
   ]
  },
  {
   "cell_type": "code",
   "execution_count": null,
   "metadata": {},
   "outputs": [],
   "source": []
  }
 ],
 "metadata": {
  "kernelspec": {
   "display_name": "Python 3",
   "language": "python",
   "name": "python3"
  },
  "language_info": {
   "codemirror_mode": {
    "name": "ipython",
    "version": 3
   },
   "file_extension": ".py",
   "mimetype": "text/x-python",
   "name": "python",
   "nbconvert_exporter": "python",
   "pygments_lexer": "ipython3",
   "version": "3.6.8"
  }
 },
 "nbformat": 4,
 "nbformat_minor": 4
}
