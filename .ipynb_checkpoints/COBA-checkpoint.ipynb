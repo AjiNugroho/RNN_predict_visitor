{
 "cells": [
  {
   "cell_type": "markdown",
   "metadata": {},
   "source": [
    "# IMPORT"
   ]
  },
  {
   "cell_type": "code",
   "execution_count": 1,
   "metadata": {},
   "outputs": [],
   "source": [
    "import pymysql\n",
    "import pandas as pd"
   ]
  },
  {
   "cell_type": "code",
   "execution_count": 2,
   "metadata": {},
   "outputs": [],
   "source": [
    "def conn():\n",
    "    mydb=pymysql.Connect('159.69.109.173','dataengnr','023y2hf82hfff','arenaliv3aidi2017',autocommit=True)\n",
    "    return mydb.cursor()"
   ]
  },
  {
   "cell_type": "code",
   "execution_count": 3,
   "metadata": {},
   "outputs": [],
   "source": [
    "def db_exe(query,c):\n",
    "    try:\n",
    "        if c.connection:\n",
    "            print(\"connection exists\")\n",
    "            c.execute(query)\n",
    "            return c.fetchall()\n",
    "        else:\n",
    "            print(\"trying to reconnect\")\n",
    "            c=conn()\n",
    "    except Exception as e:\n",
    "        return str(e)"
   ]
  },
  {
   "cell_type": "code",
   "execution_count": 4,
   "metadata": {},
   "outputs": [],
   "source": [
    "conn = conn()"
   ]
  },
  {
   "cell_type": "markdown",
   "metadata": {},
   "source": [
    " "
   ]
  },
  {
   "cell_type": "markdown",
   "metadata": {},
   "source": [
    "# GENERATE DATAFRAME"
   ]
  },
  {
   "cell_type": "markdown",
   "metadata": {},
   "source": [
    " "
   ]
  },
  {
   "cell_type": "code",
   "execution_count": 5,
   "metadata": {},
   "outputs": [],
   "source": [
    "interaksi_log_query = \"\"\"\n",
    "SELECT DATE_FORMAT(created_at, \"%Y-%m-%d %H:00:00\") tanggal, channel_id as arena_id, \n",
    "SUM(CASE WHEN action_type = \"view_stage\" THEN 1 ELSE 0 END) AS view,\n",
    "SUM(CASE WHEN action_type IN (\"create_post_audience\", \"create_post_stage\", \"create_post_sticky\") THEN 1 ELSE 0 END) AS posting,\n",
    "SUM(CASE WHEN action_type = \"expression\" THEN 1 ELSE 0 END) AS expression,\n",
    "SUM(CASE WHEN action_type = \"polling\" THEN 1 ELSE 0 END) AS polling\n",
    "FROM action_log al\n",
    "WHERE channel_id IS NOT NULL\n",
    "GROUP BY DATE_FORMAT(created_at, \"%Y-%m-%d %H:00:00\"), channel_id\"\"\""
   ]
  },
  {
   "cell_type": "code",
   "execution_count": null,
   "metadata": {},
   "outputs": [
    {
     "name": "stdout",
     "output_type": "stream",
     "text": [
      "connection exists\n"
     ]
    }
   ],
   "source": [
    "result = db_exe(interaksi_log_query,conn)"
   ]
  },
  {
   "cell_type": "code",
   "execution_count": null,
   "metadata": {},
   "outputs": [],
   "source": [
    "interaksi_log = pd.DataFrame(result, columns=['tanggal', 'arena_id', 'view', 'posting', 'expression', 'polling'])"
   ]
  },
  {
   "cell_type": "code",
   "execution_count": null,
   "metadata": {},
   "outputs": [],
   "source": [
    "interaksi_log[\"tanggal\"] = interaksi_log[\"tanggal\"].astype(\"datetime64\")\n",
    "interaksi_log[\"arena_id\"] = interaksi_log[\"arena_id\"].astype(\"int64\")\n",
    "interaksi_log[\"view\"] = interaksi_log[\"view\"].astype(\"int64\")\n",
    "interaksi_log[\"posting\"] = interaksi_log[\"posting\"].astype(\"int64\")\n",
    "interaksi_log[\"expression\"] = interaksi_log[\"expression\"].astype(\"int64\")\n",
    "interaksi_log[\"polling\"] = interaksi_log[\"polling\"].astype(\"int64\")"
   ]
  },
  {
   "cell_type": "code",
   "execution_count": null,
   "metadata": {},
   "outputs": [],
   "source": [
    "interaksi_log.info()"
   ]
  },
  {
   "cell_type": "code",
   "execution_count": null,
   "metadata": {},
   "outputs": [],
   "source": [
    "interaksi_post_query = \"\"\"\n",
    "SELECT DATE_FORMAT(FROM_UNIXTIME(created_at), \"%Y-%m-%d %H:00:00\") tanggal, arena_id,\n",
    "SUM(expression) AS expression, COUNT(*) AS posting, \n",
    "SUM(CASE WHEN highlight_id != 0 THEN 1 ELSE 0 END) AS quote,\n",
    "SUM(CASE WHEN reply_to_id != 0 THEN 1 ELSE 0 END) AS reply,\n",
    "COUNT(DISTINCT(actor_id)) AS participant\n",
    "FROM arena_post ap\n",
    "WHERE deleted = 0\n",
    "GROUP BY DATE_FORMAT(FROM_UNIXTIME(created_at), \"%Y-%m-%d %H:00:00\"), arena_id\"\"\""
   ]
  },
  {
   "cell_type": "code",
   "execution_count": null,
   "metadata": {},
   "outputs": [],
   "source": [
    "result = db_exe(interaksi_post_query,conn)"
   ]
  },
  {
   "cell_type": "code",
   "execution_count": null,
   "metadata": {},
   "outputs": [],
   "source": [
    "interaksi_post = pd.DataFrame(result, columns=['tanggal', 'arena_id', 'expression', 'posting', 'quote', 'reply',\n",
    "       'participant'])"
   ]
  },
  {
   "cell_type": "code",
   "execution_count": null,
   "metadata": {},
   "outputs": [],
   "source": [
    "interaksi_post[\"tanggal\"] = interaksi_post[\"tanggal\"].astype(\"datetime64\")\n",
    "interaksi_post[\"arena_id\"] = interaksi_post[\"arena_id\"].astype(\"int64\")\n",
    "interaksi_post[\"quote\"] = interaksi_post[\"quote\"].astype(\"int64\")\n",
    "interaksi_post[\"posting\"] = interaksi_post[\"posting\"].astype(\"int64\")\n",
    "interaksi_post[\"expression\"] = interaksi_post[\"expression\"].astype(\"int64\")\n",
    "interaksi_post[\"reply\"] = interaksi_post[\"reply\"].astype(\"int64\")\n",
    "interaksi_post[\"participant\"] = interaksi_post[\"participant\"].astype(\"int64\")"
   ]
  },
  {
   "cell_type": "code",
   "execution_count": null,
   "metadata": {},
   "outputs": [],
   "source": [
    "interaksi_post.info()"
   ]
  },
  {
   "cell_type": "code",
   "execution_count": null,
   "metadata": {},
   "outputs": [],
   "source": [
    "interaksi_bookmark_query = \"\"\"\n",
    "SELECT DATE_FORMAT(FROM_UNIXTIME(created_at), \"%Y-%m-%d %H:00:00\") tanggal, ap.arena_id, \n",
    "COUNT(*) AS bookmark\n",
    "FROM arena_post_bookmarks apb LEFT JOIN arena_post ap\n",
    "ON apb.post_id = ap.id\n",
    "GROUP BY DATE_FORMAT(FROM_UNIXTIME(created_at), \"%Y-%m-%d %H:00:00\"), arena_id\"\"\""
   ]
  },
  {
   "cell_type": "code",
   "execution_count": null,
   "metadata": {},
   "outputs": [],
   "source": [
    "result = db_exe(interaksi_bookmark_query,conn)"
   ]
  },
  {
   "cell_type": "code",
   "execution_count": null,
   "metadata": {},
   "outputs": [],
   "source": [
    "interaksi_bookmark = pd.DataFrame(result, columns=['tanggal', 'arena_id', 'bookmark'])"
   ]
  },
  {
   "cell_type": "code",
   "execution_count": null,
   "metadata": {},
   "outputs": [],
   "source": [
    "interaksi_bookmark[\"tanggal\"] = interaksi_bookmark[\"tanggal\"].astype(\"datetime64\")\n",
    "interaksi_bookmark[\"arena_id\"] = interaksi_bookmark[\"arena_id\"].astype(\"int64\")\n",
    "interaksi_bookmark[\"bookmark\"] = interaksi_bookmark[\"bookmark\"].astype(\"int64\")"
   ]
  },
  {
   "cell_type": "code",
   "execution_count": null,
   "metadata": {},
   "outputs": [],
   "source": [
    "interaksi_bookmark.info()"
   ]
  },
  {
   "cell_type": "code",
   "execution_count": null,
   "metadata": {},
   "outputs": [],
   "source": [
    "interaksi_questioner_query = \"\"\"\n",
    "SELECT DATE_FORMAT(FROM_UNIXTIME(created_at), \"%Y-%m-%d %H:00:00\") tanggal, \n",
    "arena_id, SUM(CASE WHEN questioner_type = 1 THEN 1 ELSE 0 END) AS survey,\n",
    "SUM(CASE WHEN questioner_type = 2 THEN 1 ELSE 0 END) AS quis\n",
    "FROM(\n",
    "SELECT qup.id, qup.user_id, qup.created_at, aq.questioner_type, aq.arena_id \n",
    "FROM questioner_user_participations qup LEFT JOIN arena_questioner aq\n",
    "ON qup.questioner_id = aq.id\n",
    ") X\n",
    "GROUP BY DATE_FORMAT(FROM_UNIXTIME(created_at), \"%Y-%m-%d %H:00:00\"), arena_id\"\"\""
   ]
  },
  {
   "cell_type": "code",
   "execution_count": null,
   "metadata": {},
   "outputs": [],
   "source": [
    "result = db_exe(interaksi_questioner_query,conn)"
   ]
  },
  {
   "cell_type": "code",
   "execution_count": null,
   "metadata": {},
   "outputs": [],
   "source": [
    "interaksi_questioner = pd.DataFrame(result, columns=['tanggal', 'arena_id', 'survey', 'quis'])"
   ]
  },
  {
   "cell_type": "code",
   "execution_count": null,
   "metadata": {},
   "outputs": [],
   "source": [
    "interaksi_questioner[\"tanggal\"] = interaksi_questioner[\"tanggal\"].astype(\"datetime64\")\n",
    "interaksi_questioner[\"arena_id\"] = interaksi_questioner[\"arena_id\"].astype(\"int64\")\n",
    "interaksi_questioner[\"survey\"] = interaksi_questioner[\"survey\"].astype(\"int64\")\n",
    "interaksi_questioner[\"quis\"] = interaksi_questioner[\"quis\"].astype(\"int64\")"
   ]
  },
  {
   "cell_type": "code",
   "execution_count": null,
   "metadata": {},
   "outputs": [],
   "source": [
    "interaksi_questioner.info()"
   ]
  },
  {
   "cell_type": "code",
   "execution_count": null,
   "metadata": {},
   "outputs": [],
   "source": [
    "interaksi_polling_query = \"\"\"\n",
    "SELECT DATE_FORMAT(FROM_UNIXTIME(created_at), \"%Y-%m-%d %H:00:00\") tanggal, arena_id, \n",
    "SUM(vote_count) AS polling\n",
    "FROM(\n",
    "SELECT apc.id, ap.created_at, apc.vote_count, ap.arena_id \n",
    "FROM arena_polling_choice apc INNER JOIN arena_post ap\n",
    "ON apc.post_id = ap.id WHERE ap.deleted = 0) X\n",
    "GROUP BY DATE_FORMAT(FROM_UNIXTIME(created_at), \"%Y-%m-%d %H:00:00\"), arena_id\"\"\""
   ]
  },
  {
   "cell_type": "code",
   "execution_count": null,
   "metadata": {},
   "outputs": [],
   "source": [
    "result = db_exe(interaksi_polling_query,conn)"
   ]
  },
  {
   "cell_type": "code",
   "execution_count": null,
   "metadata": {},
   "outputs": [],
   "source": [
    "interaksi_polling = pd.DataFrame(result, columns=['tanggal', 'arena_id', 'polling'])"
   ]
  },
  {
   "cell_type": "code",
   "execution_count": null,
   "metadata": {},
   "outputs": [],
   "source": [
    "interaksi_polling[\"tanggal\"] = interaksi_polling[\"tanggal\"].astype(\"datetime64\")\n",
    "interaksi_polling[\"arena_id\"] = interaksi_polling[\"arena_id\"].astype(\"int64\")\n",
    "interaksi_polling[\"polling\"] = interaksi_polling[\"polling\"].astype(\"int64\")"
   ]
  },
  {
   "cell_type": "code",
   "execution_count": null,
   "metadata": {},
   "outputs": [],
   "source": [
    "interaksi_polling.info()"
   ]
  },
  {
   "cell_type": "markdown",
   "metadata": {},
   "source": [
    " "
   ]
  },
  {
   "cell_type": "markdown",
   "metadata": {},
   "source": [
    "# JOINING DF"
   ]
  },
  {
   "cell_type": "markdown",
   "metadata": {},
   "source": [
    " "
   ]
  },
  {
   "cell_type": "code",
   "execution_count": null,
   "metadata": {},
   "outputs": [],
   "source": [
    "interaksi_post.info()"
   ]
  },
  {
   "cell_type": "code",
   "execution_count": null,
   "metadata": {},
   "outputs": [],
   "source": [
    "join1 = pd.merge(interaksi_log, interaksi_post, \n",
    "                 how=\"outer\", \n",
    "                 left_on=[\"tanggal\", \"arena_id\"], \n",
    "                 right_on=[\"tanggal\", \"arena_id\"])"
   ]
  },
  {
   "cell_type": "code",
   "execution_count": null,
   "metadata": {},
   "outputs": [],
   "source": [
    "join1.isna().any()"
   ]
  },
  {
   "cell_type": "code",
   "execution_count": null,
   "metadata": {},
   "outputs": [],
   "source": [
    "join1.info()"
   ]
  },
  {
   "cell_type": "code",
   "execution_count": null,
   "metadata": {},
   "outputs": [],
   "source": [
    "join1.fillna(0, inplace=True)\n",
    "join1[\"posting\"] = join1[\"posting_x\"] + join1[\"posting_y\"]\n",
    "join1[\"expression\"] = join1[\"expression_x\"] + join1[\"expression_y\"]\n",
    "join1.drop([\"posting_x\", \"expression_x\", \"expression_y\", \"posting_y\"], axis=1, inplace=True)"
   ]
  },
  {
   "cell_type": "code",
   "execution_count": null,
   "metadata": {},
   "outputs": [],
   "source": [
    "join1.isna().any()"
   ]
  },
  {
   "cell_type": "code",
   "execution_count": null,
   "metadata": {},
   "outputs": [],
   "source": [
    "join1"
   ]
  },
  {
   "cell_type": "code",
   "execution_count": null,
   "metadata": {},
   "outputs": [],
   "source": [
    "join2 = pd.merge(join1, interaksi_polling, left_on=[\"tanggal\", \"arena_id\"], right_on=[\"tanggal\", \"arena_id\"], how=\"outer\")"
   ]
  },
  {
   "cell_type": "code",
   "execution_count": null,
   "metadata": {},
   "outputs": [],
   "source": [
    "join2.isna().any()"
   ]
  },
  {
   "cell_type": "code",
   "execution_count": null,
   "metadata": {},
   "outputs": [],
   "source": [
    "join2.fillna(0, inplace=True)\n",
    "join2[\"polling\"] = join2[\"polling_x\"] + join2[\"polling_y\"]\n",
    "join2.drop([\"polling_x\", \"polling_y\"], axis=1, inplace=True)"
   ]
  },
  {
   "cell_type": "code",
   "execution_count": null,
   "metadata": {},
   "outputs": [],
   "source": [
    "join2.isna().any()"
   ]
  },
  {
   "cell_type": "code",
   "execution_count": null,
   "metadata": {},
   "outputs": [],
   "source": [
    "join2"
   ]
  },
  {
   "cell_type": "code",
   "execution_count": null,
   "metadata": {},
   "outputs": [],
   "source": [
    "join3 = pd.merge(join2, interaksi_bookmark, left_on=[\"tanggal\", \"arena_id\"], right_on=[\"tanggal\", \"arena_id\"], how=\"outer\")"
   ]
  },
  {
   "cell_type": "code",
   "execution_count": null,
   "metadata": {},
   "outputs": [],
   "source": [
    "join3.isna().any()"
   ]
  },
  {
   "cell_type": "code",
   "execution_count": null,
   "metadata": {},
   "outputs": [],
   "source": [
    "join3.fillna(0, inplace=True)"
   ]
  },
  {
   "cell_type": "code",
   "execution_count": null,
   "metadata": {},
   "outputs": [],
   "source": [
    "join3"
   ]
  },
  {
   "cell_type": "code",
   "execution_count": null,
   "metadata": {},
   "outputs": [],
   "source": [
    "join4 = pd.merge(join3, interaksi_questioner, left_on=[\"tanggal\", \"arena_id\"], right_on=[\"tanggal\", \"arena_id\"], how=\"outer\")"
   ]
  },
  {
   "cell_type": "code",
   "execution_count": null,
   "metadata": {},
   "outputs": [],
   "source": [
    "join4.isna().any()"
   ]
  },
  {
   "cell_type": "code",
   "execution_count": null,
   "metadata": {},
   "outputs": [],
   "source": [
    "join4.fillna(0, inplace=True)\n",
    "join4[\"tanggal\"] = pd.to_datetime(join4[\"tanggal\"])\n",
    "join4[\"arena_id\"] = join4[\"arena_id\"].astype(int)\n",
    "join4[\"view\"] = join4[\"view\"].astype(int)\n",
    "join4[\"polling\"] = join4[\"polling\"].astype(int)\n",
    "join4[\"quote\"] = join4[\"quote\"].astype(int)\n",
    "join4[\"reply\"] = join4[\"reply\"].astype(int)\n",
    "join4[\"participant\"] = join4[\"participant\"].astype(int)\n",
    "join4[\"posting\"] = join4[\"posting\"].astype(int)\n",
    "join4[\"expression\"] = join4[\"expression\"].astype(int)\n",
    "join4[\"bookmark\"] = join4[\"bookmark\"].astype(int)\n",
    "join4[\"survey\"] = join4[\"survey\"].astype(int)\n",
    "join4[\"quis\"] = join4[\"quis\"].astype(int)"
   ]
  },
  {
   "cell_type": "code",
   "execution_count": null,
   "metadata": {},
   "outputs": [],
   "source": [
    "join4.isna().any()"
   ]
  },
  {
   "cell_type": "code",
   "execution_count": null,
   "metadata": {},
   "outputs": [],
   "source": [
    "join4"
   ]
  },
  {
   "cell_type": "code",
   "execution_count": null,
   "metadata": {},
   "outputs": [],
   "source": [
    "join4.to_csv(\"trending.csv\", index=False)"
   ]
  },
  {
   "cell_type": "markdown",
   "metadata": {},
   "source": [
    " "
   ]
  },
  {
   "cell_type": "code",
   "execution_count": null,
   "metadata": {},
   "outputs": [],
   "source": [
    "join4[\"score\"] = join4.drop([\"tanggal\", \"arena_id\"], axis=1).sum(axis=1, skipna=True)"
   ]
  },
  {
   "cell_type": "code",
   "execution_count": null,
   "metadata": {},
   "outputs": [],
   "source": [
    "join4"
   ]
  },
  {
   "cell_type": "code",
   "execution_count": null,
   "metadata": {},
   "outputs": [],
   "source": []
  }
 ],
 "metadata": {
  "kernelspec": {
   "display_name": "Python 3",
   "language": "python",
   "name": "python3"
  },
  "language_info": {
   "codemirror_mode": {
    "name": "ipython",
    "version": 3
   },
   "file_extension": ".py",
   "mimetype": "text/x-python",
   "name": "python",
   "nbconvert_exporter": "python",
   "pygments_lexer": "ipython3",
   "version": "3.6.8"
  }
 },
 "nbformat": 4,
 "nbformat_minor": 4
}
