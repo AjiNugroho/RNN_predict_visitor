{
 "cells": [
  {
   "cell_type": "code",
   "execution_count": 1,
   "metadata": {},
   "outputs": [],
   "source": [
    "import pymysql\n",
    "import pandas as pd"
   ]
  },
  {
   "cell_type": "code",
   "execution_count": 2,
   "metadata": {},
   "outputs": [],
   "source": [
    "def conn():\n",
    "    mydb=pymysql.Connect('159.69.109.173','dataengnr','023y2hf82hfff','arenaliv3aidi2017',autocommit=True)\n",
    "    return mydb.cursor()"
   ]
  },
  {
   "cell_type": "code",
   "execution_count": 3,
   "metadata": {},
   "outputs": [],
   "source": [
    "def db_exe(query,c):\n",
    "    try:\n",
    "        if c.connection:\n",
    "            print(\"connection exists\")\n",
    "            c.execute(query)\n",
    "            return c.fetchall()\n",
    "        else:\n",
    "            print(\"trying to reconnect\")\n",
    "            c=conn()\n",
    "    except Exception as e:\n",
    "        return str(e)"
   ]
  },
  {
   "cell_type": "code",
   "execution_count": 4,
   "metadata": {},
   "outputs": [],
   "source": [
    "dbc=conn()"
   ]
  },
  {
   "cell_type": "code",
   "execution_count": 5,
   "metadata": {},
   "outputs": [],
   "source": [
    "query_feature_item='''\n",
    "select count(user_id) as visitor,channel_id,created_date from\n",
    "(\n",
    "select user_id,channel_id,date_format(created_at,'%Y-%m-%d') created_date from action_log\n",
    "where action_type in ('view_stage','expression','polling','create_post_audience')\n",
    "and user_id is not null\n",
    "and date_format(created_at,'%Y-%m-%d') >= date_format('2019-01-01','%Y-%m-%d')\n",
    "group by date_format(created_at,'%Y-%m-%d'),user_id,channel_id\n",
    ")X\n",
    "group by channel_id,created_date\n",
    "order by channel_id asc,created_date asc\n",
    "'''"
   ]
  },
  {
   "cell_type": "code",
   "execution_count": 6,
   "metadata": {},
   "outputs": [
    {
     "name": "stdout",
     "output_type": "stream",
     "text": [
      "connection exists\n"
     ]
    }
   ],
   "source": [
    "result=db_exe(query_feature_item,dbc)\n",
    "df = pd.DataFrame(result,columns=['visitor','channel_id','created_date'])\n",
    "df.to_csv('visitor_arena.csv',index=False)"
   ]
  },
  {
   "cell_type": "code",
   "execution_count": null,
   "metadata": {},
   "outputs": [],
   "source": []
  }
 ],
 "metadata": {
  "kernelspec": {
   "display_name": "Python 3",
   "language": "python",
   "name": "python3"
  },
  "language_info": {
   "codemirror_mode": {
    "name": "ipython",
    "version": 3
   },
   "file_extension": ".py",
   "mimetype": "text/x-python",
   "name": "python",
   "nbconvert_exporter": "python",
   "pygments_lexer": "ipython3",
   "version": "3.6.8"
  }
 },
 "nbformat": 4,
 "nbformat_minor": 4
}
